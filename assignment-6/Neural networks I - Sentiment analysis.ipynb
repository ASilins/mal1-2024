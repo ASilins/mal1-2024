{
 "cells": [
  {
   "cell_type": "markdown",
   "id": "5bc9be56",
   "metadata": {},
   "source": [
    "## Sentiment Analysis"
   ]
  },
  {
   "cell_type": "markdown",
   "id": "818b3b52",
   "metadata": {},
   "source": [
    "In this exercise we use the IMDb-dataset, which we will use to perform a sentiment analysis. The code below assumes that the data is placed in the same folder as this notebook. We see that the reviews are loaded as a pandas dataframe, and print the beginning of the first few reviews."
   ]
  },
  {
   "cell_type": "markdown",
   "id": "4982b946",
   "metadata": {},
   "source": [
    "**(a)** Split the reviews and labels in test, train and validation sets. The train and validation sets will be used to train your model and tune hyperparameters, the test set will be saved for testing. Use the `CountVectorizer` from `sklearn.feature_extraction.text` to create a Bag-of-Words representation of the reviews. Only use the 10,000 most frequent words (use the `max_features`-parameter of `CountVectorizer`)."
   ]
  },
  {
   "cell_type": "markdown",
   "id": "ebf07ee9",
   "metadata": {},
   "source": [
    "**(b)** Explore the representation of the reviews. How is a single word represented? How about a whole review?"
   ]
  },
  {
   "cell_type": "markdown",
   "id": "c2638fce",
   "metadata": {},
   "source": [
    "**(c)** Train a neural network with a single hidden layer on the dataset, tuning the relevant hyperparameters to optimize accuracy. "
   ]
  },
  {
   "cell_type": "markdown",
   "id": "1fd327a6",
   "metadata": {},
   "source": [
    "**(d)** Test your sentiment-classifier on the test set."
   ]
  },
  {
   "cell_type": "markdown",
   "id": "fd44ee62",
   "metadata": {},
   "source": [
    "**(e)** Use the classifier to classify a few sentences you write yourselves. "
   ]
  },
  {
   "cell_type": "code",
   "execution_count": 2,
   "id": "dfd3d3ad",
   "metadata": {},
   "outputs": [
    {
     "name": "stdout",
     "output_type": "stream",
     "text": [
      "Requirement already satisfied: tensorflow in /Users/mhv/.pyenv/versions/anaconda3-2023.07-2/lib/python3.11/site-packages (2.17.0)\n",
      "Requirement already satisfied: absl-py>=1.0.0 in /Users/mhv/.pyenv/versions/anaconda3-2023.07-2/lib/python3.11/site-packages (from tensorflow) (2.1.0)\n",
      "Requirement already satisfied: astunparse>=1.6.0 in /Users/mhv/.pyenv/versions/anaconda3-2023.07-2/lib/python3.11/site-packages (from tensorflow) (1.6.3)\n",
      "Requirement already satisfied: flatbuffers>=24.3.25 in /Users/mhv/.pyenv/versions/anaconda3-2023.07-2/lib/python3.11/site-packages (from tensorflow) (24.3.25)\n",
      "Requirement already satisfied: gast!=0.5.0,!=0.5.1,!=0.5.2,>=0.2.1 in /Users/mhv/.pyenv/versions/anaconda3-2023.07-2/lib/python3.11/site-packages (from tensorflow) (0.5.3)\n",
      "Requirement already satisfied: google-pasta>=0.1.1 in /Users/mhv/.pyenv/versions/anaconda3-2023.07-2/lib/python3.11/site-packages (from tensorflow) (0.2.0)\n",
      "Requirement already satisfied: h5py>=3.10.0 in /Users/mhv/.pyenv/versions/anaconda3-2023.07-2/lib/python3.11/site-packages (from tensorflow) (3.12.1)\n",
      "Requirement already satisfied: ml-dtypes<0.5.0,>=0.3.1 in /Users/mhv/.pyenv/versions/anaconda3-2023.07-2/lib/python3.11/site-packages (from tensorflow) (0.4.0)\n",
      "Requirement already satisfied: opt-einsum>=2.3.2 in /Users/mhv/.pyenv/versions/anaconda3-2023.07-2/lib/python3.11/site-packages (from tensorflow) (3.3.0)\n",
      "Requirement already satisfied: packaging in /Users/mhv/.pyenv/versions/anaconda3-2023.07-2/lib/python3.11/site-packages (from tensorflow) (24.1)\n",
      "Requirement already satisfied: protobuf!=4.21.0,!=4.21.1,!=4.21.2,!=4.21.3,!=4.21.4,!=4.21.5,<5.0.0dev,>=3.20.3 in /Users/mhv/.pyenv/versions/anaconda3-2023.07-2/lib/python3.11/site-packages (from tensorflow) (4.25.3)\n",
      "Requirement already satisfied: requests<3,>=2.21.0 in /Users/mhv/.pyenv/versions/anaconda3-2023.07-2/lib/python3.11/site-packages (from tensorflow) (2.32.3)\n",
      "Requirement already satisfied: setuptools in /Users/mhv/.pyenv/versions/anaconda3-2023.07-2/lib/python3.11/site-packages (from tensorflow) (68.0.0)\n",
      "Requirement already satisfied: six>=1.12.0 in /Users/mhv/.pyenv/versions/anaconda3-2023.07-2/lib/python3.11/site-packages (from tensorflow) (1.16.0)\n",
      "Requirement already satisfied: termcolor>=1.1.0 in /Users/mhv/.pyenv/versions/anaconda3-2023.07-2/lib/python3.11/site-packages (from tensorflow) (2.1.0)\n",
      "Requirement already satisfied: typing-extensions>=3.6.6 in /Users/mhv/.pyenv/versions/anaconda3-2023.07-2/lib/python3.11/site-packages (from tensorflow) (4.11.0)\n",
      "Requirement already satisfied: wrapt>=1.11.0 in /Users/mhv/.pyenv/versions/anaconda3-2023.07-2/lib/python3.11/site-packages (from tensorflow) (1.14.1)\n",
      "Requirement already satisfied: grpcio<2.0,>=1.24.3 in /Users/mhv/.pyenv/versions/anaconda3-2023.07-2/lib/python3.11/site-packages (from tensorflow) (1.62.2)\n",
      "Requirement already satisfied: tensorboard<2.18,>=2.17 in /Users/mhv/.pyenv/versions/anaconda3-2023.07-2/lib/python3.11/site-packages (from tensorflow) (2.17.0)\n",
      "Requirement already satisfied: keras>=3.2.0 in /Users/mhv/.pyenv/versions/anaconda3-2023.07-2/lib/python3.11/site-packages (from tensorflow) (3.4.1)\n",
      "Requirement already satisfied: wheel<1.0,>=0.23.0 in /Users/mhv/.pyenv/versions/anaconda3-2023.07-2/lib/python3.11/site-packages (from astunparse>=1.6.0->tensorflow) (0.35.1)\n",
      "Requirement already satisfied: numpy>=1.19.3 in /Users/mhv/.pyenv/versions/anaconda3-2023.07-2/lib/python3.11/site-packages (from h5py>=3.10.0->tensorflow) (1.26.4)\n",
      "Requirement already satisfied: rich in /Users/mhv/.pyenv/versions/anaconda3-2023.07-2/lib/python3.11/site-packages (from keras>=3.2.0->tensorflow) (13.7.1)\n",
      "Requirement already satisfied: namex in /Users/mhv/.pyenv/versions/anaconda3-2023.07-2/lib/python3.11/site-packages (from keras>=3.2.0->tensorflow) (0.0.7)\n",
      "Requirement already satisfied: optree in /Users/mhv/.pyenv/versions/anaconda3-2023.07-2/lib/python3.11/site-packages (from keras>=3.2.0->tensorflow) (0.12.1)\n",
      "Requirement already satisfied: charset-normalizer<4,>=2 in /Users/mhv/.pyenv/versions/anaconda3-2023.07-2/lib/python3.11/site-packages (from requests<3,>=2.21.0->tensorflow) (3.3.2)\n",
      "Requirement already satisfied: idna<4,>=2.5 in /Users/mhv/.pyenv/versions/anaconda3-2023.07-2/lib/python3.11/site-packages (from requests<3,>=2.21.0->tensorflow) (2.10)\n",
      "Requirement already satisfied: urllib3<3,>=1.21.1 in /Users/mhv/.pyenv/versions/anaconda3-2023.07-2/lib/python3.11/site-packages (from requests<3,>=2.21.0->tensorflow) (2.2.3)\n",
      "Requirement already satisfied: certifi>=2017.4.17 in /Users/mhv/.pyenv/versions/anaconda3-2023.07-2/lib/python3.11/site-packages (from requests<3,>=2.21.0->tensorflow) (2024.8.30)\n",
      "Requirement already satisfied: markdown>=2.6.8 in /Users/mhv/.pyenv/versions/anaconda3-2023.07-2/lib/python3.11/site-packages (from tensorboard<2.18,>=2.17->tensorflow) (3.4.1)\n",
      "Requirement already satisfied: tensorboard-data-server<0.8.0,>=0.7.0 in /Users/mhv/.pyenv/versions/anaconda3-2023.07-2/lib/python3.11/site-packages (from tensorboard<2.18,>=2.17->tensorflow) (0.7.0)\n",
      "Requirement already satisfied: werkzeug>=1.0.1 in /Users/mhv/.pyenv/versions/anaconda3-2023.07-2/lib/python3.11/site-packages (from tensorboard<2.18,>=2.17->tensorflow) (3.0.6)\n",
      "Requirement already satisfied: MarkupSafe>=2.1.1 in /Users/mhv/.pyenv/versions/anaconda3-2023.07-2/lib/python3.11/site-packages (from werkzeug>=1.0.1->tensorboard<2.18,>=2.17->tensorflow) (2.1.3)\n",
      "Requirement already satisfied: markdown-it-py>=2.2.0 in /Users/mhv/.pyenv/versions/anaconda3-2023.07-2/lib/python3.11/site-packages (from rich->keras>=3.2.0->tensorflow) (2.2.0)\n",
      "Requirement already satisfied: pygments<3.0.0,>=2.13.0 in /Users/mhv/.pyenv/versions/anaconda3-2023.07-2/lib/python3.11/site-packages (from rich->keras>=3.2.0->tensorflow) (2.15.1)\n",
      "Requirement already satisfied: mdurl~=0.1 in /Users/mhv/.pyenv/versions/anaconda3-2023.07-2/lib/python3.11/site-packages (from markdown-it-py>=2.2.0->rich->keras>=3.2.0->tensorflow) (0.1.0)\n",
      "Note: you may need to restart the kernel to use updated packages.\n"
     ]
    }
   ],
   "source": [
    "%pip install tensorflow"
   ]
  },
  {
   "cell_type": "code",
   "execution_count": null,
   "id": "a4491e73",
   "metadata": {},
   "outputs": [],
   "source": [
    "import pandas as pd\n",
    "import matplotlib.pyplot as plt\n",
    "import seaborn as sns\n",
    "from sklearn.feature_extraction.text import CountVectorizer\n",
    "from sklearn.model_selection import train_test_split\n",
    "import tensorflow as tf"
   ]
  },
  {
   "cell_type": "code",
   "execution_count": 32,
   "id": "14f5930a",
   "metadata": {},
   "outputs": [
    {
     "data": {
      "text/html": [
       "<div>\n",
       "<style scoped>\n",
       "    .dataframe tbody tr th:only-of-type {\n",
       "        vertical-align: middle;\n",
       "    }\n",
       "\n",
       "    .dataframe tbody tr th {\n",
       "        vertical-align: top;\n",
       "    }\n",
       "\n",
       "    .dataframe thead th {\n",
       "        text-align: right;\n",
       "    }\n",
       "</style>\n",
       "<table border=\"1\" class=\"dataframe\">\n",
       "  <thead>\n",
       "    <tr style=\"text-align: right;\">\n",
       "      <th></th>\n",
       "      <th>review</th>\n",
       "      <th>label</th>\n",
       "    </tr>\n",
       "  </thead>\n",
       "  <tbody>\n",
       "    <tr>\n",
       "      <th>0</th>\n",
       "      <td>bromwell high is a cartoon comedy . it ran at ...</td>\n",
       "      <td>positive</td>\n",
       "    </tr>\n",
       "    <tr>\n",
       "      <th>1</th>\n",
       "      <td>story of a man who has unnatural feelings for ...</td>\n",
       "      <td>negative</td>\n",
       "    </tr>\n",
       "    <tr>\n",
       "      <th>2</th>\n",
       "      <td>homelessness  or houselessness as george carli...</td>\n",
       "      <td>positive</td>\n",
       "    </tr>\n",
       "    <tr>\n",
       "      <th>3</th>\n",
       "      <td>airport    starts as a brand new luxury    pla...</td>\n",
       "      <td>negative</td>\n",
       "    </tr>\n",
       "    <tr>\n",
       "      <th>4</th>\n",
       "      <td>brilliant over  acting by lesley ann warren . ...</td>\n",
       "      <td>positive</td>\n",
       "    </tr>\n",
       "    <tr>\n",
       "      <th>...</th>\n",
       "      <td>...</td>\n",
       "      <td>...</td>\n",
       "    </tr>\n",
       "    <tr>\n",
       "      <th>24995</th>\n",
       "      <td>i saw  descent  last night at the stockholm fi...</td>\n",
       "      <td>negative</td>\n",
       "    </tr>\n",
       "    <tr>\n",
       "      <th>24996</th>\n",
       "      <td>a christmas together actually came before my t...</td>\n",
       "      <td>positive</td>\n",
       "    </tr>\n",
       "    <tr>\n",
       "      <th>24997</th>\n",
       "      <td>some films that you pick up for a pound turn o...</td>\n",
       "      <td>negative</td>\n",
       "    </tr>\n",
       "    <tr>\n",
       "      <th>24998</th>\n",
       "      <td>working  class romantic drama from director ma...</td>\n",
       "      <td>positive</td>\n",
       "    </tr>\n",
       "    <tr>\n",
       "      <th>24999</th>\n",
       "      <td>this is one of the dumbest films  i  ve ever s...</td>\n",
       "      <td>negative</td>\n",
       "    </tr>\n",
       "  </tbody>\n",
       "</table>\n",
       "<p>25000 rows × 2 columns</p>\n",
       "</div>"
      ],
      "text/plain": [
       "                                                  review     label\n",
       "0      bromwell high is a cartoon comedy . it ran at ...  positive\n",
       "1      story of a man who has unnatural feelings for ...  negative\n",
       "2      homelessness  or houselessness as george carli...  positive\n",
       "3      airport    starts as a brand new luxury    pla...  negative\n",
       "4      brilliant over  acting by lesley ann warren . ...  positive\n",
       "...                                                  ...       ...\n",
       "24995  i saw  descent  last night at the stockholm fi...  negative\n",
       "24996  a christmas together actually came before my t...  positive\n",
       "24997  some films that you pick up for a pound turn o...  negative\n",
       "24998  working  class romantic drama from director ma...  positive\n",
       "24999  this is one of the dumbest films  i  ve ever s...  negative\n",
       "\n",
       "[25000 rows x 2 columns]"
      ]
     },
     "metadata": {},
     "output_type": "display_data"
    }
   ],
   "source": [
    "# File paths\n",
    "reviews_file = 'reviews.txt'\n",
    "labels_file = 'labels.txt'\n",
    "\n",
    "# Read the files into lists\n",
    "with open(reviews_file, 'r') as rf:\n",
    "    reviews = rf.readlines()\n",
    "\n",
    "with open(labels_file, 'r') as lf:\n",
    "    labels = lf.readlines()\n",
    "\n",
    "# Remove newline characters\n",
    "reviews = [review.strip() for review in reviews]\n",
    "labels = [label.strip() for label in labels]\n",
    "\n",
    "# Create a DataFrame\n",
    "df = pd.DataFrame({'review': reviews, 'label': labels})\n",
    "\n",
    "# Display the DataFrame\n",
    "display(df)"
   ]
  },
  {
   "cell_type": "markdown",
   "id": "f44eba55",
   "metadata": {},
   "source": [
    "# Reviews analysis"
   ]
  },
  {
   "cell_type": "code",
   "execution_count": 33,
   "id": "f6129f86",
   "metadata": {},
   "outputs": [
    {
     "data": {
      "image/png": "[encoded data removed]",
      "text/plain": [
       "<Figure size 800x500 with 1 Axes>"
      ]
     },
     "metadata": {},
     "output_type": "display_data"
    },
    {
     "data": {
      "image/png": "[encoded data removed]",
      "text/plain": [
       "<Figure size 1000x600 with 1 Axes>"
      ]
     },
     "metadata": {},
     "output_type": "display_data"
    },
    {
     "data": {
      "image/png": "[encoded data removed]",
      "text/plain": [
       "<Figure size 1000x600 with 1 Axes>"
      ]
     },
     "metadata": {},
     "output_type": "display_data"
    }
   ],
   "source": [
    "df['review_length'] = df['review'].apply(len)\n",
    "\n",
    "# Total number of reviews in each category\n",
    "category_counts = df['label'].value_counts()\n",
    "\n",
    "# Average length of reviews per category\n",
    "average_lengths = df.groupby('label')['review_length'].mean()\n",
    "\n",
    "# Distribution of review lengths\n",
    "plt.figure(figsize=(8, 5))\n",
    "sns.histplot(data=df, x='review_length', hue='label', kde=True, bins=30)\n",
    "plt.title('Distribution of Review Lengths')\n",
    "plt.xlabel('Review Length')\n",
    "plt.ylabel('Frequency')\n",
    "plt.show()\n",
    "\n",
    "# Word Frequency Analysis\n",
    "# Vectorize the text to extract word counts\n",
    "vectorizer = CountVectorizer(stop_words='english')\n",
    "X = vectorizer.fit_transform(df['review'])\n",
    "word_counts = pd.DataFrame(X.toarray(), columns=vectorizer.get_feature_names_out())\n",
    "word_counts['label'] = df['label']\n",
    "\n",
    "# Summing up the word frequencies for positive and negative reviews\n",
    "positive_words = word_counts[df['label'] == 'positive'].drop('label', axis=1).sum().sort_values(ascending=False)\n",
    "negative_words = word_counts[df['label'] == 'negative'].drop('label', axis=1).sum().sort_values(ascending=False)\n",
    "\n",
    "# Visualizing Most Common Words\n",
    "def plot_common_words(word_series, title):\n",
    "    top_words = word_series.head(20)\n",
    "    plt.figure(figsize=(10, 6))\n",
    "    sns.barplot(x=top_words.values, y=top_words.index)\n",
    "    plt.title(title)\n",
    "    plt.xlabel('Frequency')\n",
    "    plt.ylabel('Words')\n",
    "    plt.show()\n",
    "\n",
    "plot_common_words(positive_words, 'Top Words in Positive Reviews')\n",
    "plot_common_words(negative_words, 'Top Words in Negative Reviews')"
   ]
  },
  {
   "cell_type": "markdown",
   "id": "12e90d40",
   "metadata": {},
   "source": [
    "Length of reviews: it seems that llengths of both positive and negative reviews are mostly the same, so this isn't a factor that'd play a significant role.\n",
    "Most common words: \n",
    "* In the charts of most common words, br (line break) seems to be the most occuring one. This is not a word, but it makes sense that it's the most common in this dataset.\n",
    "* From the looks of it, the most common words seem to be pretty similar, except for some like: \"bad\", \"great\", or \"plot\""
   ]
  },
  {
   "cell_type": "code",
   "execution_count": 34,
   "id": "483162dc",
   "metadata": {},
   "outputs": [
    {
     "data": {
      "text/plain": [
       "great        3779\n",
       "best         2225\n",
       "love         2149\n",
       "life         1770\n",
       "film         1719\n",
       "story        1572\n",
       "excellent    1295\n",
       "wonderful    1086\n",
       "young        1026\n",
       "world        1025\n",
       "dtype: int64"
      ]
     },
     "metadata": {},
     "output_type": "display_data"
    },
    {
     "data": {
      "text/plain": [
       "movie     5891\n",
       "bad       5494\n",
       "just      3467\n",
       "br        3402\n",
       "worst     2228\n",
       "like      2200\n",
       "don       1868\n",
       "plot      1722\n",
       "acting    1619\n",
       "make      1419\n",
       "dtype: int64"
      ]
     },
     "metadata": {},
     "output_type": "display_data"
    }
   ],
   "source": [
    "# The words with largest differences between reviews types\n",
    "\n",
    "positive_diff = (positive_words - negative_words).sort_values(ascending=False)\n",
    "negative_diff = (negative_words - positive_words).sort_values(ascending=False)\n",
    "\n",
    "display(positive_diff.head(10))\n",
    "display(negative_diff.head(10))"
   ]
  },
  {
   "cell_type": "markdown",
   "id": "ca04234f",
   "metadata": {},
   "source": [
    "Since the numbers in tables above can also be caused because they are just common, we need to compare them with the total number of instances. \\\n",
    "But we'll only take the 30 most different words in number, since we don't want to include words that only appear once or twice"
   ]
  },
  {
   "cell_type": "code",
   "execution_count": 35,
   "id": "c6ae4dfd",
   "metadata": {},
   "outputs": [
    {
     "data": {
      "text/html": [
       "<div>\n",
       "<style scoped>\n",
       "    .dataframe tbody tr th:only-of-type {\n",
       "        vertical-align: middle;\n",
       "    }\n",
       "\n",
       "    .dataframe tbody tr th {\n",
       "        vertical-align: top;\n",
       "    }\n",
       "\n",
       "    .dataframe thead th {\n",
       "        text-align: right;\n",
       "    }\n",
       "</style>\n",
       "<table border=\"1\" class=\"dataframe\">\n",
       "  <thead>\n",
       "    <tr style=\"text-align: right;\">\n",
       "      <th></th>\n",
       "      <th>word</th>\n",
       "      <th>difference</th>\n",
       "      <th>total</th>\n",
       "      <th>proportion</th>\n",
       "    </tr>\n",
       "  </thead>\n",
       "  <tbody>\n",
       "    <tr>\n",
       "      <th>7</th>\n",
       "      <td>wonderful</td>\n",
       "      <td>1086</td>\n",
       "      <td>1658</td>\n",
       "      <td>0.655006</td>\n",
       "    </tr>\n",
       "    <tr>\n",
       "      <th>6</th>\n",
       "      <td>excellent</td>\n",
       "      <td>1295</td>\n",
       "      <td>2071</td>\n",
       "      <td>0.625302</td>\n",
       "    </tr>\n",
       "    <tr>\n",
       "      <th>17</th>\n",
       "      <td>amazing</td>\n",
       "      <td>796</td>\n",
       "      <td>1320</td>\n",
       "      <td>0.603030</td>\n",
       "    </tr>\n",
       "    <tr>\n",
       "      <th>21</th>\n",
       "      <td>favorite</td>\n",
       "      <td>692</td>\n",
       "      <td>1232</td>\n",
       "      <td>0.561688</td>\n",
       "    </tr>\n",
       "    <tr>\n",
       "      <th>15</th>\n",
       "      <td>perfect</td>\n",
       "      <td>886</td>\n",
       "      <td>1598</td>\n",
       "      <td>0.554443</td>\n",
       "    </tr>\n",
       "    <tr>\n",
       "      <th>25</th>\n",
       "      <td>brilliant</td>\n",
       "      <td>656</td>\n",
       "      <td>1196</td>\n",
       "      <td>0.548495</td>\n",
       "    </tr>\n",
       "    <tr>\n",
       "      <th>18</th>\n",
       "      <td>loved</td>\n",
       "      <td>746</td>\n",
       "      <td>1428</td>\n",
       "      <td>0.522409</td>\n",
       "    </tr>\n",
       "    <tr>\n",
       "      <th>28</th>\n",
       "      <td>today</td>\n",
       "      <td>627</td>\n",
       "      <td>1245</td>\n",
       "      <td>0.503614</td>\n",
       "    </tr>\n",
       "    <tr>\n",
       "      <th>11</th>\n",
       "      <td>beautiful</td>\n",
       "      <td>984</td>\n",
       "      <td>2176</td>\n",
       "      <td>0.452206</td>\n",
       "    </tr>\n",
       "    <tr>\n",
       "      <th>0</th>\n",
       "      <td>great</td>\n",
       "      <td>3779</td>\n",
       "      <td>9059</td>\n",
       "      <td>0.417154</td>\n",
       "    </tr>\n",
       "    <tr>\n",
       "      <th>26</th>\n",
       "      <td>performances</td>\n",
       "      <td>653</td>\n",
       "      <td>1821</td>\n",
       "      <td>0.358594</td>\n",
       "    </tr>\n",
       "    <tr>\n",
       "      <th>1</th>\n",
       "      <td>best</td>\n",
       "      <td>2225</td>\n",
       "      <td>6413</td>\n",
       "      <td>0.346952</td>\n",
       "    </tr>\n",
       "    <tr>\n",
       "      <th>2</th>\n",
       "      <td>love</td>\n",
       "      <td>2149</td>\n",
       "      <td>6453</td>\n",
       "      <td>0.333023</td>\n",
       "    </tr>\n",
       "    <tr>\n",
       "      <th>12</th>\n",
       "      <td>performance</td>\n",
       "      <td>960</td>\n",
       "      <td>2896</td>\n",
       "      <td>0.331492</td>\n",
       "    </tr>\n",
       "    <tr>\n",
       "      <th>23</th>\n",
       "      <td>father</td>\n",
       "      <td>669</td>\n",
       "      <td>2121</td>\n",
       "      <td>0.315417</td>\n",
       "    </tr>\n",
       "    <tr>\n",
       "      <th>24</th>\n",
       "      <td>job</td>\n",
       "      <td>663</td>\n",
       "      <td>2277</td>\n",
       "      <td>0.291173</td>\n",
       "    </tr>\n",
       "    <tr>\n",
       "      <th>8</th>\n",
       "      <td>young</td>\n",
       "      <td>1026</td>\n",
       "      <td>3660</td>\n",
       "      <td>0.280328</td>\n",
       "    </tr>\n",
       "    <tr>\n",
       "      <th>27</th>\n",
       "      <td>true</td>\n",
       "      <td>641</td>\n",
       "      <td>2333</td>\n",
       "      <td>0.274754</td>\n",
       "    </tr>\n",
       "    <tr>\n",
       "      <th>16</th>\n",
       "      <td>family</td>\n",
       "      <td>862</td>\n",
       "      <td>3202</td>\n",
       "      <td>0.269207</td>\n",
       "    </tr>\n",
       "    <tr>\n",
       "      <th>9</th>\n",
       "      <td>world</td>\n",
       "      <td>1025</td>\n",
       "      <td>3833</td>\n",
       "      <td>0.267415</td>\n",
       "    </tr>\n",
       "    <tr>\n",
       "      <th>3</th>\n",
       "      <td>life</td>\n",
       "      <td>1770</td>\n",
       "      <td>6628</td>\n",
       "      <td>0.267049</td>\n",
       "    </tr>\n",
       "    <tr>\n",
       "      <th>29</th>\n",
       "      <td>different</td>\n",
       "      <td>626</td>\n",
       "      <td>2382</td>\n",
       "      <td>0.262804</td>\n",
       "    </tr>\n",
       "    <tr>\n",
       "      <th>14</th>\n",
       "      <td>series</td>\n",
       "      <td>890</td>\n",
       "      <td>3416</td>\n",
       "      <td>0.260539</td>\n",
       "    </tr>\n",
       "    <tr>\n",
       "      <th>22</th>\n",
       "      <td>fun</td>\n",
       "      <td>679</td>\n",
       "      <td>2693</td>\n",
       "      <td>0.252135</td>\n",
       "    </tr>\n",
       "    <tr>\n",
       "      <th>19</th>\n",
       "      <td>role</td>\n",
       "      <td>745</td>\n",
       "      <td>3189</td>\n",
       "      <td>0.233616</td>\n",
       "    </tr>\n",
       "    <tr>\n",
       "      <th>10</th>\n",
       "      <td>years</td>\n",
       "      <td>999</td>\n",
       "      <td>4517</td>\n",
       "      <td>0.221164</td>\n",
       "    </tr>\n",
       "    <tr>\n",
       "      <th>13</th>\n",
       "      <td>man</td>\n",
       "      <td>944</td>\n",
       "      <td>5976</td>\n",
       "      <td>0.157965</td>\n",
       "    </tr>\n",
       "    <tr>\n",
       "      <th>5</th>\n",
       "      <td>story</td>\n",
       "      <td>1572</td>\n",
       "      <td>11988</td>\n",
       "      <td>0.131131</td>\n",
       "    </tr>\n",
       "    <tr>\n",
       "      <th>20</th>\n",
       "      <td>films</td>\n",
       "      <td>736</td>\n",
       "      <td>6890</td>\n",
       "      <td>0.106821</td>\n",
       "    </tr>\n",
       "    <tr>\n",
       "      <th>4</th>\n",
       "      <td>film</td>\n",
       "      <td>1719</td>\n",
       "      <td>40155</td>\n",
       "      <td>0.042809</td>\n",
       "    </tr>\n",
       "  </tbody>\n",
       "</table>\n",
       "</div>"
      ],
      "text/plain": [
       "            word  difference  total  proportion\n",
       "7      wonderful        1086   1658    0.655006\n",
       "6      excellent        1295   2071    0.625302\n",
       "17       amazing         796   1320    0.603030\n",
       "21      favorite         692   1232    0.561688\n",
       "15       perfect         886   1598    0.554443\n",
       "25     brilliant         656   1196    0.548495\n",
       "18         loved         746   1428    0.522409\n",
       "28         today         627   1245    0.503614\n",
       "11     beautiful         984   2176    0.452206\n",
       "0          great        3779   9059    0.417154\n",
       "26  performances         653   1821    0.358594\n",
       "1           best        2225   6413    0.346952\n",
       "2           love        2149   6453    0.333023\n",
       "12   performance         960   2896    0.331492\n",
       "23        father         669   2121    0.315417\n",
       "24           job         663   2277    0.291173\n",
       "8          young        1026   3660    0.280328\n",
       "27          true         641   2333    0.274754\n",
       "16        family         862   3202    0.269207\n",
       "9          world        1025   3833    0.267415\n",
       "3           life        1770   6628    0.267049\n",
       "29     different         626   2382    0.262804\n",
       "14        series         890   3416    0.260539\n",
       "22           fun         679   2693    0.252135\n",
       "19          role         745   3189    0.233616\n",
       "10         years         999   4517    0.221164\n",
       "13           man         944   5976    0.157965\n",
       "5          story        1572  11988    0.131131\n",
       "20         films         736   6890    0.106821\n",
       "4           film        1719  40155    0.042809"
      ]
     },
     "metadata": {},
     "output_type": "display_data"
    },
    {
     "data": {
      "text/html": [
       "<div>\n",
       "<style scoped>\n",
       "    .dataframe tbody tr th:only-of-type {\n",
       "        vertical-align: middle;\n",
       "    }\n",
       "\n",
       "    .dataframe tbody tr th {\n",
       "        vertical-align: top;\n",
       "    }\n",
       "\n",
       "    .dataframe thead th {\n",
       "        text-align: right;\n",
       "    }\n",
       "</style>\n",
       "<table border=\"1\" class=\"dataframe\">\n",
       "  <thead>\n",
       "    <tr style=\"text-align: right;\">\n",
       "      <th></th>\n",
       "      <th>word</th>\n",
       "      <th>difference</th>\n",
       "      <th>total</th>\n",
       "      <th>proportion</th>\n",
       "    </tr>\n",
       "  </thead>\n",
       "  <tbody>\n",
       "    <tr>\n",
       "      <th>12</th>\n",
       "      <td>waste</td>\n",
       "      <td>1259</td>\n",
       "      <td>1457</td>\n",
       "      <td>0.864104</td>\n",
       "    </tr>\n",
       "    <tr>\n",
       "      <th>4</th>\n",
       "      <td>worst</td>\n",
       "      <td>2228</td>\n",
       "      <td>2732</td>\n",
       "      <td>0.815520</td>\n",
       "    </tr>\n",
       "    <tr>\n",
       "      <th>10</th>\n",
       "      <td>awful</td>\n",
       "      <td>1389</td>\n",
       "      <td>1725</td>\n",
       "      <td>0.805217</td>\n",
       "    </tr>\n",
       "    <tr>\n",
       "      <th>24</th>\n",
       "      <td>horrible</td>\n",
       "      <td>891</td>\n",
       "      <td>1201</td>\n",
       "      <td>0.741882</td>\n",
       "    </tr>\n",
       "    <tr>\n",
       "      <th>28</th>\n",
       "      <td>crap</td>\n",
       "      <td>751</td>\n",
       "      <td>1039</td>\n",
       "      <td>0.722810</td>\n",
       "    </tr>\n",
       "    <tr>\n",
       "      <th>19</th>\n",
       "      <td>worse</td>\n",
       "      <td>1029</td>\n",
       "      <td>1469</td>\n",
       "      <td>0.700477</td>\n",
       "    </tr>\n",
       "    <tr>\n",
       "      <th>16</th>\n",
       "      <td>terrible</td>\n",
       "      <td>1144</td>\n",
       "      <td>1638</td>\n",
       "      <td>0.698413</td>\n",
       "    </tr>\n",
       "    <tr>\n",
       "      <th>14</th>\n",
       "      <td>stupid</td>\n",
       "      <td>1155</td>\n",
       "      <td>1701</td>\n",
       "      <td>0.679012</td>\n",
       "    </tr>\n",
       "    <tr>\n",
       "      <th>15</th>\n",
       "      <td>boring</td>\n",
       "      <td>1145</td>\n",
       "      <td>1811</td>\n",
       "      <td>0.632247</td>\n",
       "    </tr>\n",
       "    <tr>\n",
       "      <th>1</th>\n",
       "      <td>bad</td>\n",
       "      <td>5494</td>\n",
       "      <td>9308</td>\n",
       "      <td>0.590245</td>\n",
       "    </tr>\n",
       "    <tr>\n",
       "      <th>25</th>\n",
       "      <td>supposed</td>\n",
       "      <td>856</td>\n",
       "      <td>1516</td>\n",
       "      <td>0.564644</td>\n",
       "    </tr>\n",
       "    <tr>\n",
       "      <th>18</th>\n",
       "      <td>poor</td>\n",
       "      <td>1065</td>\n",
       "      <td>1897</td>\n",
       "      <td>0.561413</td>\n",
       "    </tr>\n",
       "    <tr>\n",
       "      <th>11</th>\n",
       "      <td>minutes</td>\n",
       "      <td>1299</td>\n",
       "      <td>2953</td>\n",
       "      <td>0.439892</td>\n",
       "    </tr>\n",
       "    <tr>\n",
       "      <th>22</th>\n",
       "      <td>money</td>\n",
       "      <td>915</td>\n",
       "      <td>2361</td>\n",
       "      <td>0.387548</td>\n",
       "    </tr>\n",
       "    <tr>\n",
       "      <th>17</th>\n",
       "      <td>script</td>\n",
       "      <td>1120</td>\n",
       "      <td>3028</td>\n",
       "      <td>0.369881</td>\n",
       "    </tr>\n",
       "    <tr>\n",
       "      <th>27</th>\n",
       "      <td>instead</td>\n",
       "      <td>766</td>\n",
       "      <td>2190</td>\n",
       "      <td>0.349772</td>\n",
       "    </tr>\n",
       "    <tr>\n",
       "      <th>29</th>\n",
       "      <td>reason</td>\n",
       "      <td>745</td>\n",
       "      <td>2323</td>\n",
       "      <td>0.320706</td>\n",
       "    </tr>\n",
       "    <tr>\n",
       "      <th>23</th>\n",
       "      <td>guy</td>\n",
       "      <td>893</td>\n",
       "      <td>3035</td>\n",
       "      <td>0.294234</td>\n",
       "    </tr>\n",
       "    <tr>\n",
       "      <th>13</th>\n",
       "      <td>thing</td>\n",
       "      <td>1204</td>\n",
       "      <td>4528</td>\n",
       "      <td>0.265901</td>\n",
       "    </tr>\n",
       "    <tr>\n",
       "      <th>7</th>\n",
       "      <td>plot</td>\n",
       "      <td>1722</td>\n",
       "      <td>6586</td>\n",
       "      <td>0.261464</td>\n",
       "    </tr>\n",
       "    <tr>\n",
       "      <th>8</th>\n",
       "      <td>acting</td>\n",
       "      <td>1619</td>\n",
       "      <td>6493</td>\n",
       "      <td>0.249345</td>\n",
       "    </tr>\n",
       "    <tr>\n",
       "      <th>21</th>\n",
       "      <td>didn</td>\n",
       "      <td>974</td>\n",
       "      <td>4318</td>\n",
       "      <td>0.225567</td>\n",
       "    </tr>\n",
       "    <tr>\n",
       "      <th>6</th>\n",
       "      <td>don</td>\n",
       "      <td>1868</td>\n",
       "      <td>8804</td>\n",
       "      <td>0.212176</td>\n",
       "    </tr>\n",
       "    <tr>\n",
       "      <th>2</th>\n",
       "      <td>just</td>\n",
       "      <td>3467</td>\n",
       "      <td>17771</td>\n",
       "      <td>0.195093</td>\n",
       "    </tr>\n",
       "    <tr>\n",
       "      <th>9</th>\n",
       "      <td>make</td>\n",
       "      <td>1419</td>\n",
       "      <td>8025</td>\n",
       "      <td>0.176822</td>\n",
       "    </tr>\n",
       "    <tr>\n",
       "      <th>20</th>\n",
       "      <td>better</td>\n",
       "      <td>977</td>\n",
       "      <td>5739</td>\n",
       "      <td>0.170239</td>\n",
       "    </tr>\n",
       "    <tr>\n",
       "      <th>0</th>\n",
       "      <td>movie</td>\n",
       "      <td>5891</td>\n",
       "      <td>44039</td>\n",
       "      <td>0.133768</td>\n",
       "    </tr>\n",
       "    <tr>\n",
       "      <th>5</th>\n",
       "      <td>like</td>\n",
       "      <td>2200</td>\n",
       "      <td>20276</td>\n",
       "      <td>0.108503</td>\n",
       "    </tr>\n",
       "    <tr>\n",
       "      <th>26</th>\n",
       "      <td>really</td>\n",
       "      <td>786</td>\n",
       "      <td>11738</td>\n",
       "      <td>0.066962</td>\n",
       "    </tr>\n",
       "    <tr>\n",
       "      <th>3</th>\n",
       "      <td>br</td>\n",
       "      <td>3402</td>\n",
       "      <td>101872</td>\n",
       "      <td>0.033395</td>\n",
       "    </tr>\n",
       "  </tbody>\n",
       "</table>\n",
       "</div>"
      ],
      "text/plain": [
       "        word  difference   total  proportion\n",
       "12     waste        1259    1457    0.864104\n",
       "4      worst        2228    2732    0.815520\n",
       "10     awful        1389    1725    0.805217\n",
       "24  horrible         891    1201    0.741882\n",
       "28      crap         751    1039    0.722810\n",
       "19     worse        1029    1469    0.700477\n",
       "16  terrible        1144    1638    0.698413\n",
       "14    stupid        1155    1701    0.679012\n",
       "15    boring        1145    1811    0.632247\n",
       "1        bad        5494    9308    0.590245\n",
       "25  supposed         856    1516    0.564644\n",
       "18      poor        1065    1897    0.561413\n",
       "11   minutes        1299    2953    0.439892\n",
       "22     money         915    2361    0.387548\n",
       "17    script        1120    3028    0.369881\n",
       "27   instead         766    2190    0.349772\n",
       "29    reason         745    2323    0.320706\n",
       "23       guy         893    3035    0.294234\n",
       "13     thing        1204    4528    0.265901\n",
       "7       plot        1722    6586    0.261464\n",
       "8     acting        1619    6493    0.249345\n",
       "21      didn         974    4318    0.225567\n",
       "6        don        1868    8804    0.212176\n",
       "2       just        3467   17771    0.195093\n",
       "9       make        1419    8025    0.176822\n",
       "20    better         977    5739    0.170239\n",
       "0      movie        5891   44039    0.133768\n",
       "5       like        2200   20276    0.108503\n",
       "26    really         786   11738    0.066962\n",
       "3         br        3402  101872    0.033395"
      ]
     },
     "metadata": {},
     "output_type": "display_data"
    }
   ],
   "source": [
    "negative_diff = negative_diff.head(30)\n",
    "positive_diff = positive_diff.head(30)\n",
    "\n",
    "positive_total = positive_words.loc[positive_diff.index] + negative_words.loc[positive_diff.index]\n",
    "negative_total = positive_words.loc[negative_diff.index] + negative_words.loc[negative_diff.index]\n",
    "\n",
    "positive_comparison = pd.DataFrame({\n",
    "    'word': positive_diff.index,\n",
    "    'difference': positive_diff.values,\n",
    "    'total': positive_total.values,\n",
    "    'proportion': (positive_diff / positive_total).values\n",
    "}).sort_values(by='proportion', ascending=False)\n",
    "\n",
    "negative_comparison = pd.DataFrame({\n",
    "    'word': negative_diff.index,\n",
    "    'difference': negative_diff.values,\n",
    "    'total': negative_total.values,\n",
    "    'proportion': (negative_diff / negative_total).values\n",
    "}).sort_values(by='proportion', ascending=False)\n",
    "\n",
    "display(positive_comparison)\n",
    "display(negative_comparison)"
   ]
  },
  {
   "cell_type": "markdown",
   "id": "4e34b866",
   "metadata": {},
   "source": [
    "As to be expected, very emotionally strong words for and against someone's liking seem to be a good predictor of wether the review is positive or negative."
   ]
  },
  {
   "cell_type": "markdown",
   "id": "32601bd2",
   "metadata": {},
   "source": [
    "## Vectorizing text and spliting into train test validate"
   ]
  },
  {
   "cell_type": "code",
   "execution_count": 37,
   "id": "f1b613b3",
   "metadata": {},
   "outputs": [],
   "source": [
    "df[\"label\"] = df[\"label\"].map({\"negative\": 0, \"positive\": 1})"
   ]
  },
  {
   "cell_type": "code",
   "execution_count": 40,
   "id": "a1ef2970",
   "metadata": {},
   "outputs": [],
   "source": [
    "vectorizer = CountVectorizer(max_features=10000)\n",
    "\n",
    "X = vectorizer.fit_transform(df['review']).toarray()"
   ]
  },
  {
   "cell_type": "code",
   "execution_count": 41,
   "id": "73fce82b",
   "metadata": {},
   "outputs": [],
   "source": [
    "X_, X_test, y_, y_test = train_test_split(X, df['label'], train_size=.8, random_state=504)\n",
    "X_train, X_validate, y_train, y_validate = train_test_split(X_, y_, train_size=.75, random_state=504)"
   ]
  },
  {
   "cell_type": "markdown",
   "id": "b6971aee",
   "metadata": {},
   "source": [
    "## Training and validation"
   ]
  },
  {
   "cell_type": "code",
   "execution_count": 42,
   "id": "47789735",
   "metadata": {},
   "outputs": [
    {
     "name": "stderr",
     "output_type": "stream",
     "text": [
      "/Users/mhv/.pyenv/versions/anaconda3-2023.07-2/lib/python3.11/site-packages/keras/src/layers/core/dense.py:87: UserWarning: Do not pass an `input_shape`/`input_dim` argument to a layer. When using Sequential models, prefer using an `Input(shape)` object as the first layer in the model instead.\n",
      "  super().__init__(activity_regularizer=activity_regularizer, **kwargs)\n"
     ]
    }
   ],
   "source": [
    "ann = tf.keras.Sequential([\n",
    "    tf.keras.layers.Dense(units=50, input_dim=X.shape[1], activation='relu'),\n",
    "    tf.keras.layers.Dense(units=1, activation='sigmoid')\n",
    "])\n",
    "\n",
    "ann.compile(loss='binary_crossentropy', optimizer=tf.keras.optimizers.Adam(learning_rate=0.01), metrics=['accuracy']) "
   ]
  },
  {
   "cell_type": "code",
   "execution_count": 43,
   "id": "ceb80a3b",
   "metadata": {},
   "outputs": [
    {
     "name": "stdout",
     "output_type": "stream",
     "text": [
      "Epoch 1/100\n",
      "\u001b[1m469/469\u001b[0m \u001b[32m━━━━━━━━━━━━━━━━━━━━\u001b[0m\u001b[37m\u001b[0m \u001b[1m2s\u001b[0m 3ms/step - accuracy: 0.7990 - loss: 0.4762 - val_accuracy: 0.8784 - val_loss: 0.3027\n",
      "Epoch 2/100\n",
      "\u001b[1m469/469\u001b[0m \u001b[32m━━━━━━━━━━━━━━━━━━━━\u001b[0m\u001b[37m\u001b[0m \u001b[1m1s\u001b[0m 3ms/step - accuracy: 0.9397 - loss: 0.1611 - val_accuracy: 0.8800 - val_loss: 0.3376\n",
      "Epoch 3/100\n",
      "\u001b[1m469/469\u001b[0m \u001b[32m━━━━━━━━━━━━━━━━━━━━\u001b[0m\u001b[37m\u001b[0m \u001b[1m1s\u001b[0m 3ms/step - accuracy: 0.9670 - loss: 0.0868 - val_accuracy: 0.8694 - val_loss: 0.4798\n",
      "Epoch 4/100\n",
      "\u001b[1m469/469\u001b[0m \u001b[32m━━━━━━━━━━━━━━━━━━━━\u001b[0m\u001b[37m\u001b[0m \u001b[1m1s\u001b[0m 3ms/step - accuracy: 0.9742 - loss: 0.0654 - val_accuracy: 0.8696 - val_loss: 0.5162\n",
      "Epoch 5/100\n",
      "\u001b[1m469/469\u001b[0m \u001b[32m━━━━━━━━━━━━━━━━━━━━\u001b[0m\u001b[37m\u001b[0m \u001b[1m1s\u001b[0m 3ms/step - accuracy: 0.9819 - loss: 0.0492 - val_accuracy: 0.8676 - val_loss: 0.7017\n",
      "Epoch 6/100\n",
      "\u001b[1m469/469\u001b[0m \u001b[32m━━━━━━━━━━━━━━━━━━━━\u001b[0m\u001b[37m\u001b[0m \u001b[1m1s\u001b[0m 3ms/step - accuracy: 0.9864 - loss: 0.0341 - val_accuracy: 0.8646 - val_loss: 0.6771\n",
      "Epoch 7/100\n",
      "\u001b[1m469/469\u001b[0m \u001b[32m━━━━━━━━━━━━━━━━━━━━\u001b[0m\u001b[37m\u001b[0m \u001b[1m1s\u001b[0m 3ms/step - accuracy: 0.9926 - loss: 0.0197 - val_accuracy: 0.8738 - val_loss: 0.8769\n",
      "Epoch 8/100\n",
      "\u001b[1m469/469\u001b[0m \u001b[32m━━━━━━━━━━━━━━━━━━━━\u001b[0m\u001b[37m\u001b[0m \u001b[1m1s\u001b[0m 3ms/step - accuracy: 0.9899 - loss: 0.0313 - val_accuracy: 0.8680 - val_loss: 0.8108\n",
      "Epoch 9/100\n",
      "\u001b[1m469/469\u001b[0m \u001b[32m━━━━━━━━━━━━━━━━━━━━\u001b[0m\u001b[37m\u001b[0m \u001b[1m1s\u001b[0m 3ms/step - accuracy: 0.9943 - loss: 0.0166 - val_accuracy: 0.8664 - val_loss: 0.8379\n",
      "Epoch 10/100\n",
      "\u001b[1m469/469\u001b[0m \u001b[32m━━━━━━━━━━━━━━━━━━━━\u001b[0m\u001b[37m\u001b[0m \u001b[1m1s\u001b[0m 3ms/step - accuracy: 0.9935 - loss: 0.0165 - val_accuracy: 0.8690 - val_loss: 0.8789\n",
      "Epoch 11/100\n",
      "\u001b[1m469/469\u001b[0m \u001b[32m━━━━━━━━━━━━━━━━━━━━\u001b[0m\u001b[37m\u001b[0m \u001b[1m1s\u001b[0m 3ms/step - accuracy: 0.9936 - loss: 0.0206 - val_accuracy: 0.8568 - val_loss: 1.1202\n",
      "Epoch 12/100\n",
      "\u001b[1m469/469\u001b[0m \u001b[32m━━━━━━━━━━━━━━━━━━━━\u001b[0m\u001b[37m\u001b[0m \u001b[1m1s\u001b[0m 3ms/step - accuracy: 0.9905 - loss: 0.0295 - val_accuracy: 0.8688 - val_loss: 1.1724\n",
      "Epoch 13/100\n",
      "\u001b[1m469/469\u001b[0m \u001b[32m━━━━━━━━━━━━━━━━━━━━\u001b[0m\u001b[37m\u001b[0m \u001b[1m1s\u001b[0m 3ms/step - accuracy: 0.9947 - loss: 0.0171 - val_accuracy: 0.8666 - val_loss: 0.9952\n",
      "Epoch 14/100\n",
      "\u001b[1m469/469\u001b[0m \u001b[32m━━━━━━━━━━━━━━━━━━━━\u001b[0m\u001b[37m\u001b[0m \u001b[1m1s\u001b[0m 3ms/step - accuracy: 0.9968 - loss: 0.0088 - val_accuracy: 0.8648 - val_loss: 1.3439\n",
      "Epoch 15/100\n",
      "\u001b[1m469/469\u001b[0m \u001b[32m━━━━━━━━━━━━━━━━━━━━\u001b[0m\u001b[37m\u001b[0m \u001b[1m1s\u001b[0m 3ms/step - accuracy: 0.9903 - loss: 0.0316 - val_accuracy: 0.8664 - val_loss: 1.1460\n",
      "Epoch 16/100\n",
      "\u001b[1m469/469\u001b[0m \u001b[32m━━━━━━━━━━━━━━━━━━━━\u001b[0m\u001b[37m\u001b[0m \u001b[1m1s\u001b[0m 3ms/step - accuracy: 0.9971 - loss: 0.0087 - val_accuracy: 0.8616 - val_loss: 1.1666\n",
      "Epoch 17/100\n",
      "\u001b[1m469/469\u001b[0m \u001b[32m━━━━━━━━━━━━━━━━━━━━\u001b[0m\u001b[37m\u001b[0m \u001b[1m1s\u001b[0m 3ms/step - accuracy: 0.9970 - loss: 0.0070 - val_accuracy: 0.8618 - val_loss: 1.5142\n",
      "Epoch 18/100\n",
      "\u001b[1m469/469\u001b[0m \u001b[32m━━━━━━━━━━━━━━━━━━━━\u001b[0m\u001b[37m\u001b[0m \u001b[1m1s\u001b[0m 3ms/step - accuracy: 0.9989 - loss: 0.0032 - val_accuracy: 0.8694 - val_loss: 1.4871\n",
      "Epoch 19/100\n",
      "\u001b[1m469/469\u001b[0m \u001b[32m━━━━━━━━━━━━━━━━━━━━\u001b[0m\u001b[37m\u001b[0m \u001b[1m1s\u001b[0m 3ms/step - accuracy: 0.9988 - loss: 0.0027 - val_accuracy: 0.8692 - val_loss: 1.4210\n",
      "Epoch 20/100\n",
      "\u001b[1m469/469\u001b[0m \u001b[32m━━━━━━━━━━━━━━━━━━━━\u001b[0m\u001b[37m\u001b[0m \u001b[1m1s\u001b[0m 3ms/step - accuracy: 0.9989 - loss: 0.0026 - val_accuracy: 0.8700 - val_loss: 1.5014\n",
      "Epoch 21/100\n",
      "\u001b[1m469/469\u001b[0m \u001b[32m━━━━━━━━━━━━━━━━━━━━\u001b[0m\u001b[37m\u001b[0m \u001b[1m1s\u001b[0m 3ms/step - accuracy: 0.9991 - loss: 0.0020 - val_accuracy: 0.8716 - val_loss: 1.5658\n"
     ]
    }
   ],
   "source": [
    "es = tf.keras.callbacks.EarlyStopping(patience=20, restore_best_weights=True)\n",
    "\n",
    "history = ann.fit(X_train, y_train, epochs = 100, validation_data=(X_validate, y_validate), callbacks=[es])"
   ]
  },
  {
   "cell_type": "code",
   "execution_count": 57,
   "id": "8e8d0c46",
   "metadata": {},
   "outputs": [
    {
     "name": "stdout",
     "output_type": "stream",
     "text": [
      "\u001b[1m40/40\u001b[0m \u001b[32m━━━━━━━━━━━━━━━━━━━━\u001b[0m\u001b[37m\u001b[0m \u001b[1m0s\u001b[0m 2ms/step - accuracy: 0.8807 - loss: 0.2994\n",
      "Test loss: 0.3023627996444702\n",
      "Test accuracy: 0.8804000020027161\n"
     ]
    }
   ],
   "source": [
    "test_results = ann.evaluate(X_test, y_test, batch_size=128)\n",
    "\n",
    "print('Test loss:', test_results[0])\n",
    "print('Test accuracy:', test_results[1])"
   ]
  },
  {
   "cell_type": "code",
   "execution_count": 44,
   "id": "5a3cf76b",
   "metadata": {},
   "outputs": [
    {
     "data": {
      "image/png": "[encoded data removed]",
      "text/plain": [
       "<Figure size 640x480 with 1 Axes>"
      ]
     },
     "metadata": {},
     "output_type": "display_data"
    }
   ],
   "source": [
    "plt.figure()\n",
    "plt.title(\"Learning curves\")\n",
    "plt.xlabel(\"Epoch\")\n",
    "plt.ylabel(\"Cross entropy loss\")\n",
    "plt.plot(history.history['loss'], label = 'train')\n",
    "plt.plot(history.history['val_loss'], label = 'valid')\n",
    "plt.legend()\n",
    "plt.show()"
   ]
  },
  {
   "cell_type": "code",
   "execution_count": 53,
   "id": "9bdc332f",
   "metadata": {},
   "outputs": [
    {
     "name": "stdout",
     "output_type": "stream",
     "text": [
      "\u001b[1m157/157\u001b[0m \u001b[32m━━━━━━━━━━━━━━━━━━━━\u001b[0m\u001b[37m\u001b[0m \u001b[1m0s\u001b[0m 744us/step\n",
      "5000\n"
     ]
    },
    {
     "data": {
      "text/plain": [
       "5000"
      ]
     },
     "execution_count": 53,
     "metadata": {},
     "output_type": "execute_result"
    }
   ],
   "source": [
    "prediction = (ann.predict(X_test) > 0.5).astype(int).flatten()\n",
    "print(len(prediction))\n",
    "len(y_test)"
   ]
  },
  {
   "cell_type": "markdown",
   "id": "bb7b8bdf",
   "metadata": {},
   "source": [
    "## Testing with own text"
   ]
  },
  {
   "cell_type": "markdown",
   "id": "debcf3ad",
   "metadata": {},
   "source": [
    "Custom reviews"
   ]
  },
  {
   "cell_type": "code",
   "execution_count": 74,
   "id": "995a874a",
   "metadata": {},
   "outputs": [],
   "source": [
    "test_text = [\n",
    "    \"hate\",\n",
    "    \"like\",\n",
    "    \"I love this movie\",\n",
    "    \"I hate this movie\",\n",
    "    \"This movie is amazing, said no one\",\n",
    "    \"How can you hate on this movie?\"\n",
    "]\n",
    "\n",
    "test_X = vectorizer.transform(test_text).toarray()"
   ]
  },
  {
   "cell_type": "code",
   "execution_count": 75,
   "id": "2780c4c0",
   "metadata": {},
   "outputs": [
    {
     "name": "stdout",
     "output_type": "stream",
     "text": [
      "\u001b[1m1/1\u001b[0m \u001b[32m━━━━━━━━━━━━━━━━━━━━\u001b[0m\u001b[37m\u001b[0m \u001b[1m0s\u001b[0m 12ms/step\n"
     ]
    }
   ],
   "source": [
    "custom_predictions = ann.predict(test_X)"
   ]
  },
  {
   "cell_type": "code",
   "execution_count": 76,
   "id": "d0f9278e",
   "metadata": {},
   "outputs": [
    {
     "name": "stdout",
     "output_type": "stream",
     "text": [
      "Text: hate -> Sentiment: positive\n",
      "Text: like -> Sentiment: negative\n",
      "Text: I love this movie -> Sentiment: positive\n",
      "Text: I hate this movie -> Sentiment: positive\n",
      "Text: This movie is amazing, said no one -> Sentiment: positive\n",
      "Text: How can you hate on this movie? -> Sentiment: positive\n"
     ]
    }
   ],
   "source": [
    "predicted_labels = (custom_predictions > 0.5).astype(int).flatten()\n",
    "\n",
    "for text, label in zip(test_text, predicted_labels):\n",
    "    sentiment = 'positive' if label == 1 else 'negative'\n",
    "    print(f\"Text: {text} -> Sentiment: {sentiment}\")"
   ]
  },
  {
   "cell_type": "markdown",
   "id": "f9f74160",
   "metadata": {},
   "source": [
    "Generated reviews"
   ]
  },
  {
   "cell_type": "code",
   "execution_count": 77,
   "id": "b79ff06b",
   "metadata": {},
   "outputs": [],
   "source": [
    "test_text = [\n",
    "    \"An absolute masterpiece! The storyline was engaging from start to finish, with exceptional performances by the cast. The visuals were stunning, and the director's attention to detail truly brought the movie to life. A must-watch for anyone who loves cinema.\",\n",
    "    \"This film exceeded all my expectations! The characters felt real and relatable, and the emotional depth kept me hooked. The soundtrack perfectly complemented the scenes, making the experience unforgettable. I can't wait to see it again!\",\n",
    "    \"What a disappointment. The plot was shallow and predictable, and the characters lacked any real development. It felt like a waste of time and money. Definitely not something I would recommend to anyone.\",\n",
    "    \"Terribly executed. The pacing was all over the place, and the dialogue felt forced and unnatural. It was as if the creators didn't know what story they wanted to tell. I struggled to sit through the entire thing.\",\n",
    "    \"An incredible film that left me speechless. The plot twists were unpredictable, and the acting was top-notch. This is one of the best movies I've seen in years!\",\n",
    "    \"Absolutely loved it! The cinematography was breathtaking, and the story was so moving. I felt emotionally connected to the characters throughout the film.\",\n",
    "    \"I found this movie incredibly boring. The plot dragged on with no real purpose, and the acting felt uninspired. I wouldn't recommend it.\",\n",
    "    \"One of the worst movies I've ever watched. The storyline was nonsensical, and the editing was a complete mess. It felt like a chore to sit through.\",\n",
    "]\n",
    "\n",
    "\n",
    "test_X = vectorizer.transform(test_text).toarray()"
   ]
  },
  {
   "cell_type": "code",
   "execution_count": 78,
   "id": "79a2c8d9",
   "metadata": {},
   "outputs": [
    {
     "name": "stdout",
     "output_type": "stream",
     "text": [
      "\u001b[1m1/1\u001b[0m \u001b[32m━━━━━━━━━━━━━━━━━━━━\u001b[0m\u001b[37m\u001b[0m \u001b[1m0s\u001b[0m 13ms/step\n"
     ]
    }
   ],
   "source": [
    "generated_predictions = ann.predict(test_X)"
   ]
  },
  {
   "cell_type": "code",
   "execution_count": 79,
   "id": "26bdf622",
   "metadata": {},
   "outputs": [
    {
     "name": "stdout",
     "output_type": "stream",
     "text": [
      "Text: An absolute masterpiece! The storyline was engaging from start to finish, with exceptional performances by the cast. The visuals were stunning, and the director's attention to detail truly brought the movie to life. A must-watch for anyone who loves cinema. \n",
      " Sentiment: positive\n",
      "Text: This film exceeded all my expectations! The characters felt real and relatable, and the emotional depth kept me hooked. The soundtrack perfectly complemented the scenes, making the experience unforgettable. I can't wait to see it again! \n",
      " Sentiment: positive\n",
      "Text: What a disappointment. The plot was shallow and predictable, and the characters lacked any real development. It felt like a waste of time and money. Definitely not something I would recommend to anyone. \n",
      " Sentiment: negative\n",
      "Text: Terribly executed. The pacing was all over the place, and the dialogue felt forced and unnatural. It was as if the creators didn't know what story they wanted to tell. I struggled to sit through the entire thing. \n",
      " Sentiment: negative\n",
      "Text: An incredible film that left me speechless. The plot twists were unpredictable, and the acting was top-notch. This is one of the best movies I've seen in years! \n",
      " Sentiment: positive\n",
      "Text: Absolutely loved it! The cinematography was breathtaking, and the story was so moving. I felt emotionally connected to the characters throughout the film. \n",
      " Sentiment: positive\n",
      "Text: I found this movie incredibly boring. The plot dragged on with no real purpose, and the acting felt uninspired. I wouldn't recommend it. \n",
      " Sentiment: negative\n",
      "Text: One of the worst movies I've ever watched. The storyline was nonsensical, and the editing was a complete mess. It felt like a chore to sit through. \n",
      " Sentiment: negative\n"
     ]
    }
   ],
   "source": [
    "predicted_labels = (generated_predictions > 0.5).astype(int).flatten()\n",
    "\n",
    "for text, label in zip(test_text, predicted_labels):\n",
    "    sentiment = 'positive' if label == 1 else 'negative'\n",
    "    print(f\"Text: {text} \\n Sentiment: {sentiment}\")"
   ]
  },
  {
   "cell_type": "markdown",
   "id": "2992f118",
   "metadata": {},
   "source": [
    "From what we can see, the model does fairly accurate prediction, but that only applies to review that are long enough to contain a large amount of words. \\\n",
    "When it comes to short reviews, the model is struggling to predict anything as it doesn't have data to evaluate if one word is positive or negative. \\\n",
    "Below, we can see that the predictions themselves were very close to 0.5 for custom reviews, which means that the model was very indecisive. \\\n",
    "As we could see on the gaussian distributuion in the analysis part, the number of characters is usually around 1000, which is considerably more than what we've inputed in our custom reviews."
   ]
  },
  {
   "cell_type": "code",
   "execution_count": 82,
   "id": "25a6ac55",
   "metadata": {},
   "outputs": [
    {
     "data": {
      "text/plain": [
       "array([[0.54352564],\n",
       "       [0.49850154],\n",
       "       [0.572901  ],\n",
       "       [0.51941323],\n",
       "       [0.5401804 ],\n",
       "       [0.56830335]], dtype=float32)"
      ]
     },
     "metadata": {},
     "output_type": "display_data"
    },
    {
     "data": {
      "text/plain": [
       "array([[0.7570862 ],\n",
       "       [0.8259111 ],\n",
       "       [0.05428366],\n",
       "       [0.3514775 ],\n",
       "       [0.86096317],\n",
       "       [0.77708834],\n",
       "       [0.1326503 ],\n",
       "       [0.10003256]], dtype=float32)"
      ]
     },
     "metadata": {},
     "output_type": "display_data"
    }
   ],
   "source": [
    "display(custom_predictions)\n",
    "display(generated_predictions)"
   ]
  }
 ],
 "metadata": {
  "kernelspec": {
   "display_name": "base",
   "language": "python",
   "name": "python3"
  },
  "language_info": {
   "codemirror_mode": {
    "name": "ipython",
    "version": 3
   },
   "file_extension": ".py",
   "mimetype": "text/x-python",
   "name": "python",
   "nbconvert_exporter": "python",
   "pygments_lexer": "ipython3",
   "version": "3.11.4"
  }
 },
 "nbformat": 4,
 "nbformat_minor": 5
}
