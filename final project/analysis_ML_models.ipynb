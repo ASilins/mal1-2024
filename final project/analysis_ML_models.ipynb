{
 "cells": [
  {
   "cell_type": "code",
   "execution_count": 281,
   "metadata": {},
   "outputs": [],
   "source": [
    "import pandas as pd\n",
    "import numpy as np\n",
    "import datetime\n",
    "\n",
    "import seaborn as sns\n",
    "import matplotlib.pyplot as plt\n",
    "\n",
    "from sklearn.model_selection import train_test_split\n",
    "from sklearn.linear_model import LinearRegression\n",
    "from sklearn.preprocessing import PolynomialFeatures\n",
    "from sklearn.pipeline import make_pipeline"
   ]
  },
  {
   "cell_type": "markdown",
   "metadata": {},
   "source": [
    "# Preparing a dataset"
   ]
  },
  {
   "cell_type": "markdown",
   "metadata": {},
   "source": [
    "## Actigraphy dataset"
   ]
  },
  {
   "cell_type": "code",
   "execution_count": 282,
   "metadata": {},
   "outputs": [],
   "source": [
    "actigraphy_df = pd.read_parquet(\"series_train.parquet\")"
   ]
  },
  {
   "cell_type": "code",
   "execution_count": 283,
   "metadata": {},
   "outputs": [],
   "source": [
    "# Removing irrelevant columns\n",
    "actigraphy_df.drop(\n",
    "    columns=[\"step\", \"X\", \"Y\", \"Z\", \"anglez\", \"battery_voltage\"],\n",
    "    inplace=True,\n",
    ")"
   ]
  },
  {
   "cell_type": "code",
   "execution_count": 284,
   "metadata": {},
   "outputs": [
    {
     "data": {
      "text/html": [
       "<div>\n",
       "<style scoped>\n",
       "    .dataframe tbody tr th:only-of-type {\n",
       "        vertical-align: middle;\n",
       "    }\n",
       "\n",
       "    .dataframe tbody tr th {\n",
       "        vertical-align: top;\n",
       "    }\n",
       "\n",
       "    .dataframe thead th {\n",
       "        text-align: right;\n",
       "    }\n",
       "</style>\n",
       "<table border=\"1\" class=\"dataframe\">\n",
       "  <thead>\n",
       "    <tr style=\"text-align: right;\">\n",
       "      <th></th>\n",
       "      <th>id</th>\n",
       "      <th>enmo</th>\n",
       "      <th>non-wear_flag</th>\n",
       "      <th>light</th>\n",
       "    </tr>\n",
       "  </thead>\n",
       "  <tbody>\n",
       "    <tr>\n",
       "      <th>0</th>\n",
       "      <td>00115b9f</td>\n",
       "      <td>0.047388</td>\n",
       "      <td>0.000000</td>\n",
       "      <td>42.296310</td>\n",
       "    </tr>\n",
       "    <tr>\n",
       "      <th>1</th>\n",
       "      <td>001f3379</td>\n",
       "      <td>0.011926</td>\n",
       "      <td>0.655708</td>\n",
       "      <td>16.771980</td>\n",
       "    </tr>\n",
       "    <tr>\n",
       "      <th>2</th>\n",
       "      <td>00f332d1</td>\n",
       "      <td>0.030255</td>\n",
       "      <td>0.171246</td>\n",
       "      <td>66.563393</td>\n",
       "    </tr>\n",
       "    <tr>\n",
       "      <th>3</th>\n",
       "      <td>01085eb3</td>\n",
       "      <td>0.032946</td>\n",
       "      <td>0.035210</td>\n",
       "      <td>17.800735</td>\n",
       "    </tr>\n",
       "    <tr>\n",
       "      <th>4</th>\n",
       "      <td>012cadd8</td>\n",
       "      <td>0.058280</td>\n",
       "      <td>0.000000</td>\n",
       "      <td>54.893402</td>\n",
       "    </tr>\n",
       "    <tr>\n",
       "      <th>...</th>\n",
       "      <td>...</td>\n",
       "      <td>...</td>\n",
       "      <td>...</td>\n",
       "      <td>...</td>\n",
       "    </tr>\n",
       "    <tr>\n",
       "      <th>991</th>\n",
       "      <td>fe9c71d8</td>\n",
       "      <td>0.043686</td>\n",
       "      <td>0.137257</td>\n",
       "      <td>7.297878</td>\n",
       "    </tr>\n",
       "    <tr>\n",
       "      <th>992</th>\n",
       "      <td>fecc07d6</td>\n",
       "      <td>0.002962</td>\n",
       "      <td>0.939101</td>\n",
       "      <td>50.648312</td>\n",
       "    </tr>\n",
       "    <tr>\n",
       "      <th>993</th>\n",
       "      <td>ff18b749</td>\n",
       "      <td>0.053595</td>\n",
       "      <td>0.000000</td>\n",
       "      <td>94.217117</td>\n",
       "    </tr>\n",
       "    <tr>\n",
       "      <th>994</th>\n",
       "      <td>ffcd4dbd</td>\n",
       "      <td>0.028601</td>\n",
       "      <td>0.020323</td>\n",
       "      <td>22.480034</td>\n",
       "    </tr>\n",
       "    <tr>\n",
       "      <th>995</th>\n",
       "      <td>ffed1dd5</td>\n",
       "      <td>0.017076</td>\n",
       "      <td>0.592331</td>\n",
       "      <td>7.501198</td>\n",
       "    </tr>\n",
       "  </tbody>\n",
       "</table>\n",
       "<p>996 rows × 4 columns</p>\n",
       "</div>"
      ],
      "text/plain": [
       "           id      enmo  non-wear_flag      light\n",
       "0    00115b9f  0.047388       0.000000  42.296310\n",
       "1    001f3379  0.011926       0.655708  16.771980\n",
       "2    00f332d1  0.030255       0.171246  66.563393\n",
       "3    01085eb3  0.032946       0.035210  17.800735\n",
       "4    012cadd8  0.058280       0.000000  54.893402\n",
       "..        ...       ...            ...        ...\n",
       "991  fe9c71d8  0.043686       0.137257   7.297878\n",
       "992  fecc07d6  0.002962       0.939101  50.648312\n",
       "993  ff18b749  0.053595       0.000000  94.217117\n",
       "994  ffcd4dbd  0.028601       0.020323  22.480034\n",
       "995  ffed1dd5  0.017076       0.592331   7.501198\n",
       "\n",
       "[996 rows x 4 columns]"
      ]
     },
     "metadata": {},
     "output_type": "display_data"
    }
   ],
   "source": [
    "# Taking means after aggregations\n",
    "actigraphy_df = actigraphy_df.groupby(\"id\", observed=True).agg(\n",
    "    {\"enmo\": \"mean\", \"non-wear_flag\": \"mean\", \"light\": \"mean\"}\n",
    ")\n",
    "\n",
    "actigraphy_df.reset_index(inplace=True)\n",
    "display(actigraphy_df)"
   ]
  },
  {
   "cell_type": "markdown",
   "metadata": {},
   "source": [
    "## HBN dataset"
   ]
  },
  {
   "cell_type": "code",
   "execution_count": 285,
   "metadata": {},
   "outputs": [],
   "source": [
    "hbn_df = pd.read_csv(\"train.csv\")"
   ]
  },
  {
   "cell_type": "code",
   "execution_count": 286,
   "metadata": {},
   "outputs": [],
   "source": [
    "# Taking only rows that have a target\n",
    "hbn_df = hbn_df[~hbn_df[\"sii\"].isna()]"
   ]
  },
  {
   "cell_type": "code",
   "execution_count": 287,
   "metadata": {},
   "outputs": [],
   "source": [
    "# As sii column is calculated from PCIAT Total and that is calculated from PCIAT questions, we can drop all PCIAT columns. We will only keep the season column\n",
    "columns_to_drop = hbn_df.filter(regex=\"^PCIAT\").columns.difference([\"PCIAT-Season\"])\n",
    "hbn_df.drop(columns=columns_to_drop, inplace=True)"
   ]
  },
  {
   "cell_type": "code",
   "execution_count": 288,
   "metadata": {},
   "outputs": [],
   "source": [
    "# Knowing that BMI is calculated from weight and height we can get rid of those two columns\n",
    "hbn_df.drop(columns=[\"Physical-Weight\", \"Physical-Height\"], inplace=True)"
   ]
  },
  {
   "cell_type": "code",
   "execution_count": 289,
   "metadata": {},
   "outputs": [],
   "source": [
    "hbn_df[\"Physical-BMI\"] = hbn_df[\"Physical-BMI\"].fillna(hbn_df[\"BIA-BIA_BMI\"])"
   ]
  },
  {
   "cell_type": "code",
   "execution_count": 290,
   "metadata": {},
   "outputs": [],
   "source": [
    "# To not create bias in data, we will drop columns with a high number of null columns\n",
    "high_null_columns = hbn_df.columns[hbn_df.isnull().mean() > 0.5]\n",
    "hbn_df.drop(columns=high_null_columns, inplace=True)"
   ]
  },
  {
   "cell_type": "code",
   "execution_count": 291,
   "metadata": {},
   "outputs": [],
   "source": [
    "hbn_df.drop(columns=[\"BIA-BIA_BMI\"], inplace=True)"
   ]
  },
  {
   "cell_type": "code",
   "execution_count": 292,
   "metadata": {},
   "outputs": [],
   "source": [
    "# We ill be using the average value to fill the missing values by first apply log on the current columns and then filling the missing values\n",
    "hbn_df[\"Physical-BMI\"] = hbn_df[\"Physical-BMI\"].fillna(hbn_df[\"Physical-BMI\"].mean())"
   ]
  },
  {
   "cell_type": "code",
   "execution_count": 293,
   "metadata": {},
   "outputs": [
    {
     "name": "stderr",
     "output_type": "stream",
     "text": [
      "/var/folders/md/j2f882mn1vl7cb0f7l2mmkjh0000gp/T/ipykernel_84485/2726629741.py:4: FutureWarning: Downcasting behavior in `replace` is deprecated and will be removed in a future version. To retain the old behavior, explicitly call `result.infer_objects(copy=False)`. To opt-in to the future behavior, set `pd.set_option('future.no_silent_downcasting', True)`\n",
      "  hbn_df[season_cols] = hbn_df[season_cols].replace(season_mapping)\n"
     ]
    }
   ],
   "source": [
    "# Converting seasons to numeric values\n",
    "season_mapping = {\"Spring\": 0, \"Summer\": 1, \"Fall\": 2, \"Winter\": 3}\n",
    "season_cols = hbn_df.filter(regex=\"Season$\").columns\n",
    "hbn_df[season_cols] = hbn_df[season_cols].replace(season_mapping)"
   ]
  },
  {
   "cell_type": "code",
   "execution_count": 294,
   "metadata": {},
   "outputs": [],
   "source": [
    "# As the null percentage is around 50%, we can drop the columns as we can assume the corelation is not from missing values\n",
    "bia_corr_matrix = hbn_df.filter(regex=\"^BIA\").corr()\n",
    "\n",
    "high_corr_threshold = 0.9\n",
    "high_corr_pairs = bia_corr_matrix.columns[\n",
    "    (bia_corr_matrix.abs() > high_corr_threshold).sum() > 1\n",
    "]\n",
    "\n",
    "hbn_df.drop(columns=high_corr_pairs, inplace=True)"
   ]
  },
  {
   "cell_type": "markdown",
   "metadata": {},
   "source": [
    "Fill in na values with mode or mean depending on the number of unique values. \\\n",
    "For columns with a lot of unique values, we take the mean value after grouping by age and sex. \\\n",
    "For columns with a small number of unique values, "
   ]
  },
  {
   "cell_type": "code",
   "execution_count": 295,
   "metadata": {},
   "outputs": [
    {
     "name": "stdout",
     "output_type": "stream",
     "text": [
      "<class 'pandas.core.frame.DataFrame'>\n",
      "Index: 2736 entries, 0 to 3958\n",
      "Data columns (total 36 columns):\n",
      " #   Column                                  Non-Null Count  Dtype  \n",
      "---  ------                                  --------------  -----  \n",
      " 0   id                                      2736 non-null   object \n",
      " 1   Basic_Demos-Enroll_Season               2736 non-null   int64  \n",
      " 2   Basic_Demos-Age                         2736 non-null   int64  \n",
      " 3   Basic_Demos-Sex                         2736 non-null   int64  \n",
      " 4   CGAS-Season                             2342 non-null   float64\n",
      " 5   CGAS-CGAS_Score                         2342 non-null   float64\n",
      " 6   Physical-Season                         2595 non-null   float64\n",
      " 7   Physical-BMI                            2736 non-null   float64\n",
      " 8   Physical-Diastolic_BP                   2478 non-null   float64\n",
      " 9   Physical-HeartRate                      2486 non-null   float64\n",
      " 10  Physical-Systolic_BP                    2478 non-null   float64\n",
      " 11  FGC-Season                              2647 non-null   float64\n",
      " 12  FGC-FGC_CU                              1919 non-null   float64\n",
      " 13  FGC-FGC_CU_Zone                         1884 non-null   float64\n",
      " 14  FGC-FGC_PU                              1909 non-null   float64\n",
      " 15  FGC-FGC_PU_Zone                         1875 non-null   float64\n",
      " 16  FGC-FGC_SRL                             1911 non-null   float64\n",
      " 17  FGC-FGC_SRL_Zone                        1877 non-null   float64\n",
      " 18  FGC-FGC_SRR                             1913 non-null   float64\n",
      " 19  FGC-FGC_SRR_Zone                        1879 non-null   float64\n",
      " 20  FGC-FGC_TL                              1919 non-null   float64\n",
      " 21  FGC-FGC_TL_Zone                         1885 non-null   float64\n",
      " 22  BIA-Season                              1844 non-null   float64\n",
      " 23  BIA-BIA_Activity_Level_num              1813 non-null   float64\n",
      " 24  BIA-BIA_FFMI                            1813 non-null   float64\n",
      " 25  BIA-BIA_FMI                             1813 non-null   float64\n",
      " 26  BIA-BIA_Frame_num                       1813 non-null   float64\n",
      " 27  PAQ_C-Season                            1440 non-null   float64\n",
      " 28  PAQ_C-PAQ_C_Total                       1440 non-null   float64\n",
      " 29  PCIAT-Season                            2736 non-null   int64  \n",
      " 30  SDS-Season                              2527 non-null   float64\n",
      " 31  SDS-SDS_Total_Raw                       2527 non-null   float64\n",
      " 32  SDS-SDS_Total_T                         2525 non-null   float64\n",
      " 33  PreInt_EduHx-Season                     2719 non-null   float64\n",
      " 34  PreInt_EduHx-computerinternet_hoursday  2654 non-null   float64\n",
      " 35  sii                                     2736 non-null   float64\n",
      "dtypes: float64(31), int64(4), object(1)\n",
      "memory usage: 790.9+ KB\n"
     ]
    }
   ],
   "source": [
    "hbn_df.info()"
   ]
  },
  {
   "cell_type": "code",
   "execution_count": 296,
   "metadata": {},
   "outputs": [],
   "source": [
    "columns = set(hbn_df.columns.to_list()) - {\n",
    "    \"id\",\n",
    "    \"Basic_Demos-Enroll_Season\",\n",
    "    \"Basic_Demos-Age\",\n",
    "    \"Basic_Demos-Sex\",\n",
    "    \"sii\",\n",
    "}\n",
    "\n",
    "for col in columns:\n",
    "    if len(hbn_df[col].unique()) > 10:\n",
    "        hbn_df[col] = hbn_df.groupby([\"Basic_Demos-Age\", \"Basic_Demos-Sex\"])[\n",
    "            col\n",
    "        ].transform(lambda x: x.fillna(x.mean()))\n",
    "        hbn_df[col] = hbn_df[col].fillna(hbn_df[col].mean())\n",
    "\n",
    "    if len(hbn_df[col].unique()) <= 10:\n",
    "        hbn_df[col] = hbn_df[col].fillna(hbn_df[col].mode())\n",
    "        hbn_df[col] = hbn_df[col].fillna(hbn_df[col].median())"
   ]
  },
  {
   "cell_type": "code",
   "execution_count": 297,
   "metadata": {},
   "outputs": [
    {
     "data": {
      "image/png": "[encoded data removed]",
      "text/plain": [
       "<Figure size 640x480 with 1 Axes>"
      ]
     },
     "metadata": {},
     "output_type": "display_data"
    },
    {
     "data": {
      "image/png": "[encoded data removed]",
      "text/plain": [
       "<Figure size 640x480 with 1 Axes>"
      ]
     },
     "metadata": {},
     "output_type": "display_data"
    }
   ],
   "source": [
    "for col in columns:\n",
    "    if 'FMI' in col:\n",
    "        sns.histplot(hbn_df[col])\n",
    "        #plt.xlim((0, 25))\n",
    "        plt.show()"
   ]
  },
  {
   "cell_type": "code",
   "execution_count": 298,
   "metadata": {},
   "outputs": [],
   "source": [
    "# Removing outliers from FMI and FFMI\n",
    "\n",
    "hbn_df['BIA-BIA_FFMI'] = hbn_df['BIA-BIA_FFMI'].apply(lambda x: hbn_df['BIA-BIA_FFMI'].median() if x > 24 else x)\n",
    "hbn_df['BIA-BIA_FMI'] = hbn_df['BIA-BIA_FMI'].apply(lambda x: hbn_df['BIA-BIA_FMI'].median() if x <= 0 or x > 9 else x)"
   ]
  },
  {
   "cell_type": "markdown",
   "metadata": {},
   "source": [
    "### Combining data sources"
   ]
  },
  {
   "cell_type": "code",
   "execution_count": 317,
   "metadata": {},
   "outputs": [],
   "source": [
    "df = pd.merge(left=hbn_df, right=actigraphy_df, how='left', on='id')"
   ]
  },
  {
   "cell_type": "code",
   "execution_count": 318,
   "metadata": {},
   "outputs": [],
   "source": [
    "# Filling in missing values\n",
    "\n",
    "nan_columns = {\"enmo\", \"non-wear_flag\", \"light\"}\n",
    "\n",
    "for col in nan_columns:\n",
    "    df[col] = df[col].fillna(df[col].mean())"
   ]
  },
  {
   "cell_type": "code",
   "execution_count": 319,
   "metadata": {},
   "outputs": [],
   "source": [
    "df = df.drop(\n",
    "    columns=[\"id\", \"Basic_Demos-Enroll_Season\", \"Basic_Demos-Age\", \"Basic_Demos-Sex\"]\n",
    ")"
   ]
  },
  {
   "cell_type": "code",
   "execution_count": 320,
   "metadata": {},
   "outputs": [
    {
     "name": "stdout",
     "output_type": "stream",
     "text": [
      "<class 'pandas.core.frame.DataFrame'>\n",
      "RangeIndex: 2736 entries, 0 to 2735\n",
      "Data columns (total 35 columns):\n",
      " #   Column                                  Non-Null Count  Dtype  \n",
      "---  ------                                  --------------  -----  \n",
      " 0   CGAS-Season                             2736 non-null   float64\n",
      " 1   CGAS-CGAS_Score                         2736 non-null   float64\n",
      " 2   Physical-Season                         2736 non-null   float64\n",
      " 3   Physical-BMI                            2736 non-null   float64\n",
      " 4   Physical-Diastolic_BP                   2736 non-null   float64\n",
      " 5   Physical-HeartRate                      2736 non-null   float64\n",
      " 6   Physical-Systolic_BP                    2736 non-null   float64\n",
      " 7   FGC-Season                              2736 non-null   float64\n",
      " 8   FGC-FGC_CU                              2736 non-null   float64\n",
      " 9   FGC-FGC_CU_Zone                         2736 non-null   float64\n",
      " 10  FGC-FGC_PU                              2736 non-null   float64\n",
      " 11  FGC-FGC_PU_Zone                         2736 non-null   float64\n",
      " 12  FGC-FGC_SRL                             2736 non-null   float64\n",
      " 13  FGC-FGC_SRL_Zone                        2736 non-null   float64\n",
      " 14  FGC-FGC_SRR                             2736 non-null   float64\n",
      " 15  FGC-FGC_SRR_Zone                        2736 non-null   float64\n",
      " 16  FGC-FGC_TL                              2736 non-null   float64\n",
      " 17  FGC-FGC_TL_Zone                         2736 non-null   float64\n",
      " 18  BIA-Season                              2736 non-null   float64\n",
      " 19  BIA-BIA_Activity_Level_num              2736 non-null   float64\n",
      " 20  BIA-BIA_FFMI                            2736 non-null   float64\n",
      " 21  BIA-BIA_FMI                             2736 non-null   float64\n",
      " 22  BIA-BIA_Frame_num                       2736 non-null   float64\n",
      " 23  PAQ_C-Season                            2736 non-null   float64\n",
      " 24  PAQ_C-PAQ_C_Total                       2736 non-null   float64\n",
      " 25  PCIAT-Season                            2736 non-null   int64  \n",
      " 26  SDS-Season                              2736 non-null   float64\n",
      " 27  SDS-SDS_Total_Raw                       2736 non-null   float64\n",
      " 28  SDS-SDS_Total_T                         2736 non-null   float64\n",
      " 29  PreInt_EduHx-Season                     2736 non-null   float64\n",
      " 30  PreInt_EduHx-computerinternet_hoursday  2736 non-null   float64\n",
      " 31  sii                                     2736 non-null   float64\n",
      " 32  enmo                                    2736 non-null   float32\n",
      " 33  non-wear_flag                           2736 non-null   float32\n",
      " 34  light                                   2736 non-null   float32\n",
      "dtypes: float32(3), float64(31), int64(1)\n",
      "memory usage: 716.2 KB\n"
     ]
    }
   ],
   "source": [
    "df.info()"
   ]
  },
  {
   "cell_type": "markdown",
   "metadata": {},
   "source": [
    "# Training and testing models"
   ]
  },
  {
   "cell_type": "markdown",
   "metadata": {},
   "source": [
    "Imports"
   ]
  },
  {
   "cell_type": "code",
   "execution_count": 321,
   "metadata": {},
   "outputs": [],
   "source": [
    "# For data preprocessing\n",
    "from sklearn.model_selection import train_test_split\n",
    "from sklearn.preprocessing import StandardScaler, LabelEncoder\n",
    "from sklearn.impute import SimpleImputer\n",
    "\n",
    "# For classification models\n",
    "from sklearn.linear_model import LogisticRegression\n",
    "from sklearn.tree import DecisionTreeClassifier\n",
    "from sklearn.ensemble import RandomForestClassifier, GradientBoostingClassifier\n",
    "from sklearn.neighbors import KNeighborsClassifier\n",
    "from sklearn.svm import SVC\n",
    "\n",
    "# For regression models\n",
    "from sklearn.linear_model import LinearRegression, Ridge, Lasso\n",
    "from sklearn.tree import DecisionTreeRegressor\n",
    "from sklearn.ensemble import RandomForestRegressor, GradientBoostingRegressor\n",
    "from sklearn.neighbors import KNeighborsRegressor\n",
    "from sklearn.svm import SVR\n",
    "\n",
    "# For model evaluation\n",
    "from sklearn.metrics import accuracy_score, classification_report, confusion_matrix\n",
    "from sklearn.metrics import mean_squared_error, r2_score\n",
    "from sklearn.pipeline import Pipeline\n",
    "from sklearn.compose import ColumnTransformer"
   ]
  },
  {
   "cell_type": "markdown",
   "metadata": {},
   "source": [
    "Train test split"
   ]
  },
  {
   "cell_type": "code",
   "execution_count": 322,
   "metadata": {},
   "outputs": [],
   "source": [
    "X = df.drop('sii', axis=1)\n",
    "y = df['sii']"
   ]
  },
  {
   "cell_type": "code",
   "execution_count": 323,
   "metadata": {},
   "outputs": [],
   "source": [
    "y = y.astype(int)"
   ]
  },
  {
   "cell_type": "code",
   "execution_count": 324,
   "metadata": {},
   "outputs": [],
   "source": [
    "# For reproducibility\n",
    "random_state = 42\n",
    "\n",
    "# Split the data\n",
    "X_train, X_test, y_train, y_test = train_test_split(\n",
    "    X, y, test_size=0.2, random_state=random_state)"
   ]
  },
  {
   "cell_type": "markdown",
   "metadata": {},
   "source": [
    "Classification models"
   ]
  },
  {
   "cell_type": "code",
   "execution_count": 325,
   "metadata": {},
   "outputs": [],
   "source": [
    "classification_models = {\n",
    "    'Logistic Regression': LogisticRegression(max_iter=1000),\n",
    "    'Decision Tree': DecisionTreeClassifier(),\n",
    "    'Random Forest': RandomForestClassifier(),\n",
    "    'Gradient Boosting': GradientBoostingClassifier(),\n",
    "    'K-Nearest Neighbors': KNeighborsClassifier(),\n",
    "    'Support Vector Machine': SVC()\n",
    "}"
   ]
  },
  {
   "cell_type": "code",
   "execution_count": 326,
   "metadata": {},
   "outputs": [
    {
     "name": "stderr",
     "output_type": "stream",
     "text": [
      "/Users/mhv/.pyenv/versions/anaconda3-2023.07-2/lib/python3.11/site-packages/sklearn/linear_model/_logistic.py:469: ConvergenceWarning: lbfgs failed to converge (status=1):\n",
      "STOP: TOTAL NO. of ITERATIONS REACHED LIMIT.\n",
      "\n",
      "Increase the number of iterations (max_iter) or scale the data as shown in:\n",
      "    https://scikit-learn.org/stable/modules/preprocessing.html\n",
      "Please also refer to the documentation for alternative solver options:\n",
      "    https://scikit-learn.org/stable/modules/linear_model.html#logistic-regression\n",
      "  n_iter_i = _check_optimize_result(\n"
     ]
    },
    {
     "name": "stdout",
     "output_type": "stream",
     "text": [
      "\n",
      "=== Logistic Regression ===\n",
      "Accuracy: 0.5985401459854015\n",
      "\n",
      "=== Decision Tree ===\n",
      "Accuracy: 0.4981751824817518\n",
      "\n",
      "=== Random Forest ===\n",
      "Accuracy: 0.6076642335766423\n",
      "\n",
      "=== Gradient Boosting ===\n",
      "Accuracy: 0.6058394160583942\n",
      "\n",
      "=== K-Nearest Neighbors ===\n",
      "Accuracy: 0.5492700729927007\n",
      "\n",
      "=== Support Vector Machine ===\n",
      "Accuracy: 0.6131386861313869\n"
     ]
    }
   ],
   "source": [
    "for model_name, model in classification_models.items():\n",
    "    # Fit the model\n",
    "    model.fit(X_train, y_train)\n",
    "    \n",
    "    # Predict on the test set\n",
    "    y_pred = model.predict(X_test)\n",
    "    \n",
    "    # Evaluate the model\n",
    "    print(f\"\\n=== {model_name} ===\")\n",
    "    print(\"Accuracy:\", accuracy_score(y_test, y_pred))"
   ]
  },
  {
   "cell_type": "markdown",
   "metadata": {},
   "source": [
    "Regression models"
   ]
  },
  {
   "cell_type": "code",
   "execution_count": 327,
   "metadata": {},
   "outputs": [],
   "source": [
    "regression_models = {\n",
    "    'Linear Regression': LinearRegression(),\n",
    "    'Ridge Regression': Ridge(),\n",
    "    'Lasso Regression': Lasso(),\n",
    "    'Decision Tree Regressor': DecisionTreeRegressor(),\n",
    "    'Random Forest Regressor': RandomForestRegressor(),\n",
    "    'Gradient Boosting Regressor': GradientBoostingRegressor(),\n",
    "    'K-Nearest Neighbors Regressor': KNeighborsRegressor(),\n",
    "    'Support Vector Regressor': SVR()\n",
    "}"
   ]
  },
  {
   "cell_type": "code",
   "execution_count": 328,
   "metadata": {},
   "outputs": [
    {
     "name": "stdout",
     "output_type": "stream",
     "text": [
      "\n",
      "=== Linear Regression ===\n",
      "RMSE: 0.6907018882756307\n",
      "R^2 Score: 0.21625331765361022\n",
      "\n",
      "=== Ridge Regression ===\n",
      "RMSE: 0.6897315476074197\n",
      "R^2 Score: 0.21845388230465412\n",
      "\n",
      "=== Lasso Regression ===\n",
      "RMSE: 0.7471564688815744\n",
      "R^2 Score: 0.08289818975618546\n",
      "\n",
      "=== Decision Tree Regressor ===\n",
      "RMSE: 0.9862189093838535\n",
      "R^2 Score: -0.597868662333968\n",
      "\n",
      "=== Random Forest Regressor ===\n",
      "RMSE: 0.6895666681192051\n",
      "R^2 Score: 0.21882749294295278\n",
      "\n",
      "=== Gradient Boosting Regressor ===\n",
      "RMSE: 0.6832186107287782\n",
      "R^2 Score: 0.23314402686304658\n",
      "\n",
      "=== K-Nearest Neighbors Regressor ===\n",
      "RMSE: 0.7863340052949584\n",
      "R^2 Score: -0.015800783386945128\n",
      "\n",
      "=== Support Vector Regressor ===\n",
      "RMSE: 0.7276366599460922\n",
      "R^2 Score: 0.13019165067968475\n"
     ]
    }
   ],
   "source": [
    "for model_name, model in regression_models.items():\n",
    "    # Fit the model\n",
    "    model.fit(X_train, y_train)\n",
    "    \n",
    "    # Predict on the test set\n",
    "    y_pred = model.predict(X_test)\n",
    "    \n",
    "    # Evaluate the model\n",
    "    mse = mean_squared_error(y_test, y_pred)\n",
    "    rmse = np.sqrt(mse)\n",
    "    r2 = r2_score(y_test, y_pred)\n",
    "    \n",
    "    print(f\"\\n=== {model_name} ===\")\n",
    "    print(\"RMSE:\", rmse)\n",
    "    print(\"R^2 Score:\", r2)"
   ]
  },
  {
   "cell_type": "markdown",
   "metadata": {},
   "source": [
    "Hyperparameter tuning"
   ]
  },
  {
   "cell_type": "code",
   "execution_count": 329,
   "metadata": {},
   "outputs": [
    {
     "name": "stdout",
     "output_type": "stream",
     "text": [
      "Best Parameters: {'max_depth': 10, 'n_estimators': 100}\n",
      "Best Score: 0.6846309945255571\n"
     ]
    }
   ],
   "source": [
    "from sklearn.model_selection import GridSearchCV\n",
    "\n",
    "param_grid = {\n",
    "    'n_estimators': [50, 100, 200],\n",
    "    'max_depth': [None, 10, 20],\n",
    "}\n",
    "\n",
    "grid_search = GridSearchCV(RandomForestRegressor(), param_grid, cv=5, scoring='neg_mean_squared_error')\n",
    "grid_search.fit(X_train, y_train)\n",
    "\n",
    "print(\"Best Parameters:\", grid_search.best_params_)\n",
    "print(\"Best Score:\", np.sqrt(-grid_search.best_score_))"
   ]
  },
  {
   "cell_type": "markdown",
   "metadata": {},
   "source": [
    "Feature importance"
   ]
  },
  {
   "cell_type": "code",
   "execution_count": 330,
   "metadata": {},
   "outputs": [
    {
     "name": "stdout",
     "output_type": "stream",
     "text": [
      "\n",
      "Feature Importances:\n",
      "                                   Feature  Importance\n",
      "8                               FGC-FGC_CU    0.107551\n",
      "30  PreInt_EduHx-computerinternet_hoursday    0.076677\n",
      "20                            BIA-BIA_FFMI    0.061117\n",
      "28                         SDS-SDS_Total_T    0.060603\n",
      "3                             Physical-BMI    0.057595\n",
      "21                             BIA-BIA_FMI    0.053006\n",
      "5                       Physical-HeartRate    0.049847\n",
      "6                     Physical-Systolic_BP    0.048285\n",
      "24                       PAQ_C-PAQ_C_Total    0.047046\n",
      "1                          CGAS-CGAS_Score    0.042821\n",
      "27                       SDS-SDS_Total_Raw    0.041871\n",
      "4                    Physical-Diastolic_BP    0.036744\n",
      "10                              FGC-FGC_PU    0.036498\n",
      "16                              FGC-FGC_TL    0.032446\n",
      "14                             FGC-FGC_SRR    0.032360\n",
      "12                             FGC-FGC_SRL    0.031360\n",
      "33                                   light    0.028435\n",
      "31                                    enmo    0.018056\n",
      "29                     PreInt_EduHx-Season    0.014601\n",
      "19              BIA-BIA_Activity_Level_num    0.013619\n"
     ]
    }
   ],
   "source": [
    "# Fit a model\n",
    "model = RandomForestRegressor()\n",
    "model.fit(X_train, y_train)\n",
    "\n",
    "# Get feature importances\n",
    "importances = model.feature_importances_\n",
    "feature_names = X.columns\n",
    "feature_importance_df = pd.DataFrame({\n",
    "    'Feature': feature_names,\n",
    "    'Importance': importances\n",
    "}).sort_values(by='Importance', ascending=False)\n",
    "\n",
    "print(\"\\nFeature Importances:\")\n",
    "print(feature_importance_df.head(20))"
   ]
  },
  {
   "cell_type": "code",
   "execution_count": null,
   "metadata": {},
   "outputs": [],
   "source": []
  }
 ],
 "metadata": {
  "kernelspec": {
   "display_name": "base",
   "language": "python",
   "name": "python3"
  },
  "language_info": {
   "codemirror_mode": {
    "name": "ipython",
    "version": 3
   },
   "file_extension": ".py",
   "mimetype": "text/x-python",
   "name": "python",
   "nbconvert_exporter": "python",
   "pygments_lexer": "ipython3",
   "version": "3.11.10"
  }
 },
 "nbformat": 4,
 "nbformat_minor": 2
}
