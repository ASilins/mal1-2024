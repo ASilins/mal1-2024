{
 "cells": [
  {
   "cell_type": "markdown",
   "id": "278102b3",
   "metadata": {},
   "source": [
    "# Candidate Test 2022 Analysis Part 1\n",
    "\n",
    "This exercise focuses on the candidate tests from two television networks: DR and TV2. Data from both tests have been given on a scale of five responses (-2, -1, 0, 1, 2).\n",
    "\n",
    "---\n",
    "\n",
    "There are 6 datasets included in this exercise:\n",
    "\n",
    "- `alldata.xlsx`: Contains responses from both TV stations.\n",
    "- `drdata.xlsx`: Contains responses from DR.\n",
    "- `drq.xlsx`: Contains questions from DR.\n",
    "- `tv2data.xlsx`: Contains responses from TV2.\n",
    "- `tv2q.xlsx`: Contains questions from TV2.\n",
    "- `electeddata.xlsx`: Contains responses from both TV stations for candidates who were elected to the parliament. Note that 9 members are missing; 7 of them didn't take any of the tests. Additionally, some notable figures like Mette F. and Lars Løkke did not participate in any of the tests.\n",
    "\n",
    "---\n",
    "\n",
    "It's entirely up to you how you approach this data, but at a *minimum*, your analysis should include:\n",
    "- Age of the candidates grouped by parties.\n",
    "- An overview of the most \"confident\" candidates, i.e., those with the highest proportion of \"strongly agree\" or \"strongly disagree\" responses.\n",
    "- Differences in responses between candidates, both inter-party and intra-party, along with an explanation of which parties have the most internal disagreements.\n",
    "- Classification models to predict candidates' party affiliations. Investigate if there are any candidates who seem to be in the \"wrong\" party based on their political landscape positions. You must use the following three algorithms: **Decision Tree, Random Forrest, and Gradient Boosted Tree**, and **two other** classification algorithms of your choice, i.e. a total of 5 models are to be trained.\n",
    "\n",
    "---\n",
    "\n",
    "The following parties are represented:\n",
    "\n",
    "| Party letter | Party name | Party name (English) | Political position |\n",
    "| :-: | :-: | :-: | :-: |\n",
    "| A | Socialdemokratiet | Social Democrats | Centre-left |\n",
    "| V | Venstre | Danish Liberal Party | Centre-right |\n",
    "| M | Moderaterne | Moderates | Centre-right |\n",
    "| F | Socialistisk Folkeparti | Socialist People's Party | Left-wing |\n",
    "| D | Danmarksdemokraterne | Denmark Democrats | Right-wing |\n",
    "| I | Liberal Alliance | Liberal Alliance | Right-wing |\n",
    "| C | Konservative | Conservative People's Party | Right-wing |\n",
    "| Æ | Enhedslisten | Red-Green Alliance | Far-left |\n",
    "| B | Radikale Venstre | Social Liberal Party | Centre-left |\n",
    "| D | Nye Borgerlige | New Right | Far-right |\n",
    "| Z | Alternativet | The Alternative | Centre-left |\n",
    "| O | Dansk Folkeparti | Danish People's Party | Far-right |\n",
    "| G | Frie Grønne | Free Greens | Centre-left |\n",
    "| K | Kristendemokraterne | Christian Democrats | Centre-right |\n",
    "\n",
    "Below you can see the results and the colors chosen to represent the parties. Use these colors in your analysis above.\n",
    "\n",
    "![Alt text](image-1.png)\n",
    "\n",
    "\n",
    "Others have undertaken similar analyses. You can draw inspiration from the following (use Google tranlsate if your Danish is rusty):\n",
    "\n",
    "- [Analysis of where individual candidates stand relative to each other and their parties](https://v2022.dumdata.dk/)\n",
    "- [Candidate Test 2022 – A deep dive into the data](https://kwedel.github.io/kandidattest2022/)\n",
    "- [The Political Landscape 2019](https://kwedel.github.io/kandidattest2019/)\n",
    "\n"
   ]
  },
  {
   "cell_type": "code",
   "execution_count": 184,
   "id": "ea61c105",
   "metadata": {},
   "outputs": [],
   "source": [
    "import pandas as pd\n",
    "import seaborn as sns\n",
    "import matplotlib.pyplot as plt"
   ]
  },
  {
   "cell_type": "markdown",
   "id": "44fa0a8d",
   "metadata": {},
   "source": [
    "## Deviation across all candidates"
   ]
  },
  {
   "cell_type": "code",
   "execution_count": 212,
   "id": "e8410695",
   "metadata": {},
   "outputs": [
    {
     "data": {
      "text/plain": [
       "(99, 3)"
      ]
     },
     "execution_count": 212,
     "metadata": {},
     "output_type": "execute_result"
    }
   ],
   "source": [
    "tv2q = pd.read_excel(\"tv2q.xlsx\")\n",
    "tv2q = tv2q.drop(['type', 'depends'], axis=1)\n",
    "tv2q = tv2q.rename(columns={\n",
    "    'id': 'ID',\n",
    "    'header': 'Title',\n",
    "    'question' : 'Question'\n",
    "})\n",
    "drq = pd.read_excel(\"drq.xlsx\") \n",
    "drq = drq.drop(['Info', 'WordMerger', 'ID_CandidateQuestionType', 'QuestionListData',\n",
    "              'ArgumentFor', 'ArgumentAgainst', 'Rule', 'QuestionListData'], axis=1)\n",
    "questions = pd.concat([tv2q, drq])\n",
    "questions.shape"
   ]
  },
  {
   "cell_type": "code",
   "execution_count": 213,
   "id": "1001a814",
   "metadata": {},
   "outputs": [
    {
     "data": {
      "text/plain": [
       "(867, 53)"
      ]
     },
     "metadata": {},
     "output_type": "display_data"
    }
   ],
   "source": [
    "df = pd.read_excel(\"alldata.xlsx\")\n",
    "display(df.shape)"
   ]
  },
  {
   "cell_type": "markdown",
   "id": "029b3534",
   "metadata": {},
   "source": [
    "It seems that the most controversial questions surround handling immigrants and the arne-pension"
   ]
  },
  {
   "cell_type": "code",
   "execution_count": 220,
   "id": "ba2dc74e",
   "metadata": {},
   "outputs": [
    {
     "data": {
      "text/html": [
       "<div>\n",
       "<style scoped>\n",
       "    .dataframe tbody tr th:only-of-type {\n",
       "        vertical-align: middle;\n",
       "    }\n",
       "\n",
       "    .dataframe tbody tr th {\n",
       "        vertical-align: top;\n",
       "    }\n",
       "\n",
       "    .dataframe thead th {\n",
       "        text-align: right;\n",
       "    }\n",
       "</style>\n",
       "<table border=\"1\" class=\"dataframe\">\n",
       "  <thead>\n",
       "    <tr style=\"text-align: right;\">\n",
       "      <th></th>\n",
       "      <th>ID</th>\n",
       "      <th>Title</th>\n",
       "      <th>Question</th>\n",
       "      <th>std</th>\n",
       "    </tr>\n",
       "  </thead>\n",
       "  <tbody>\n",
       "    <tr>\n",
       "      <th>0</th>\n",
       "      <td>555</td>\n",
       "      <td>EU OG UDENRIGS</td>\n",
       "      <td>Asylansøgere bør sendes til et land uden for E...</td>\n",
       "      <td>1.659853</td>\n",
       "    </tr>\n",
       "    <tr>\n",
       "      <th>1</th>\n",
       "      <td>556</td>\n",
       "      <td>ARBEJDSMARKED OG ØKONOMI</td>\n",
       "      <td>Den såkaldte Arne-pension skal afskaffes</td>\n",
       "      <td>1.646493</td>\n",
       "    </tr>\n",
       "    <tr>\n",
       "      <th>2</th>\n",
       "      <td>546</td>\n",
       "      <td>KLIMA OG ENERGI</td>\n",
       "      <td>Danmark skal undersøge muligheden for at udvik...</td>\n",
       "      <td>1.621924</td>\n",
       "    </tr>\n",
       "    <tr>\n",
       "      <th>3</th>\n",
       "      <td>10b</td>\n",
       "      <td>Socialområdet</td>\n",
       "      <td>Den såkaldte Arne-pension, der giver mulighed ...</td>\n",
       "      <td>1.615923</td>\n",
       "    </tr>\n",
       "    <tr>\n",
       "      <th>4</th>\n",
       "      <td>531</td>\n",
       "      <td>ARBEJDSMARKED OG ØKONOMI</td>\n",
       "      <td>Der skal indføres en særlig skat på de allerhø...</td>\n",
       "      <td>1.614926</td>\n",
       "    </tr>\n",
       "    <tr>\n",
       "      <th>5</th>\n",
       "      <td>6b</td>\n",
       "      <td>Flygtninge og indvandrere</td>\n",
       "      <td>Det vil være en god idé at etablere et dansk a...</td>\n",
       "      <td>1.605488</td>\n",
       "    </tr>\n",
       "    <tr>\n",
       "      <th>6</th>\n",
       "      <td>6a</td>\n",
       "      <td>Flygtninge og indvandrere</td>\n",
       "      <td>Den danske udlændingepolitik er for stram.</td>\n",
       "      <td>1.605232</td>\n",
       "    </tr>\n",
       "    <tr>\n",
       "      <th>7</th>\n",
       "      <td>544</td>\n",
       "      <td>DEMOKRATI</td>\n",
       "      <td>Transkønnede under 18 år skal have mulighed fo...</td>\n",
       "      <td>1.603658</td>\n",
       "    </tr>\n",
       "    <tr>\n",
       "      <th>8</th>\n",
       "      <td>11b</td>\n",
       "      <td>Mink-sagen</td>\n",
       "      <td>Det bør undersøges, om Mette Frederiksen kan s...</td>\n",
       "      <td>1.601701</td>\n",
       "    </tr>\n",
       "    <tr>\n",
       "      <th>9</th>\n",
       "      <td>550</td>\n",
       "      <td>ARBEJDSMARKED OG ØKONOMI</td>\n",
       "      <td>Der skal indføres kvoter, der sikrer mindst 30...</td>\n",
       "      <td>1.586611</td>\n",
       "    </tr>\n",
       "  </tbody>\n",
       "</table>\n",
       "</div>"
      ],
      "text/plain": [
       "    ID                      Title  \\\n",
       "0  555             EU OG UDENRIGS   \n",
       "1  556   ARBEJDSMARKED OG ØKONOMI   \n",
       "2  546            KLIMA OG ENERGI   \n",
       "3  10b              Socialområdet   \n",
       "4  531   ARBEJDSMARKED OG ØKONOMI   \n",
       "5   6b  Flygtninge og indvandrere   \n",
       "6   6a  Flygtninge og indvandrere   \n",
       "7  544                  DEMOKRATI   \n",
       "8  11b                 Mink-sagen   \n",
       "9  550   ARBEJDSMARKED OG ØKONOMI   \n",
       "\n",
       "                                            Question       std  \n",
       "0  Asylansøgere bør sendes til et land uden for E...  1.659853  \n",
       "1           Den såkaldte Arne-pension skal afskaffes  1.646493  \n",
       "2  Danmark skal undersøge muligheden for at udvik...  1.621924  \n",
       "3  Den såkaldte Arne-pension, der giver mulighed ...  1.615923  \n",
       "4  Der skal indføres en særlig skat på de allerhø...  1.614926  \n",
       "5  Det vil være en god idé at etablere et dansk a...  1.605488  \n",
       "6         Den danske udlændingepolitik er for stram.  1.605232  \n",
       "7  Transkønnede under 18 år skal have mulighed fo...  1.603658  \n",
       "8  Det bør undersøges, om Mette Frederiksen kan s...  1.601701  \n",
       "9  Der skal indføres kvoter, der sikrer mindst 30...  1.586611  "
      ]
     },
     "execution_count": 220,
     "metadata": {},
     "output_type": "execute_result"
    }
   ],
   "source": [
    "description = df.drop(columns=['alder'], index=1).describe()\n",
    "# After taking the standard deviation of all question, we can see that the most dispersed questions are 555, and 556\n",
    "description = description.iloc[2].sort_values(ascending=False).to_frame().reset_index().rename(columns={'index': 'ID'})\n",
    "description['ID'] = description[\"ID\"].astype(str)\n",
    "questions['ID'] = questions['ID'].astype(str)\n",
    "combined = (questions.merge(description, how=\"right\", on=\"ID\").sort_values(by=\"std\", ascending=False))\n",
    "combined.head(10)"
   ]
  },
  {
   "cell_type": "markdown",
   "id": "43a34cc1",
   "metadata": {},
   "source": [
    "## Deviation within parties"
   ]
  },
  {
   "cell_type": "code",
   "execution_count": 238,
   "id": "7a604d7b",
   "metadata": {},
   "outputs": [
    {
     "data": {
      "text/html": [
       "<div>\n",
       "<style scoped>\n",
       "    .dataframe tbody tr th:only-of-type {\n",
       "        vertical-align: middle;\n",
       "    }\n",
       "\n",
       "    .dataframe tbody tr th {\n",
       "        vertical-align: top;\n",
       "    }\n",
       "\n",
       "    .dataframe thead th {\n",
       "        text-align: right;\n",
       "    }\n",
       "</style>\n",
       "<table border=\"1\" class=\"dataframe\">\n",
       "  <thead>\n",
       "    <tr style=\"text-align: right;\">\n",
       "      <th></th>\n",
       "      <th>parti</th>\n",
       "      <th>deviation_sum</th>\n",
       "    </tr>\n",
       "  </thead>\n",
       "  <tbody>\n",
       "    <tr>\n",
       "      <th>8</th>\n",
       "      <td>Løsgænger</td>\n",
       "      <td>71.061293</td>\n",
       "    </tr>\n",
       "    <tr>\n",
       "      <th>6</th>\n",
       "      <td>Kristendemokraterne</td>\n",
       "      <td>50.492682</td>\n",
       "    </tr>\n",
       "    <tr>\n",
       "      <th>0</th>\n",
       "      <td>Alternativet</td>\n",
       "      <td>44.572776</td>\n",
       "    </tr>\n",
       "    <tr>\n",
       "      <th>9</th>\n",
       "      <td>Moderaterne</td>\n",
       "      <td>43.646967</td>\n",
       "    </tr>\n",
       "    <tr>\n",
       "      <th>2</th>\n",
       "      <td>Dansk Folkeparti</td>\n",
       "      <td>43.512455</td>\n",
       "    </tr>\n",
       "    <tr>\n",
       "      <th>...</th>\n",
       "      <td>...</td>\n",
       "      <td>...</td>\n",
       "    </tr>\n",
       "    <tr>\n",
       "      <th>4</th>\n",
       "      <td>Enhedslisten</td>\n",
       "      <td>33.267532</td>\n",
       "    </tr>\n",
       "    <tr>\n",
       "      <th>5</th>\n",
       "      <td>Frie Grønne, Danmarks Nye Venstrefløjsparti</td>\n",
       "      <td>32.696590</td>\n",
       "    </tr>\n",
       "    <tr>\n",
       "      <th>13</th>\n",
       "      <td>Socialistisk Folkeparti</td>\n",
       "      <td>32.500525</td>\n",
       "    </tr>\n",
       "    <tr>\n",
       "      <th>1</th>\n",
       "      <td>Danmarksdemokraterne</td>\n",
       "      <td>29.835597</td>\n",
       "    </tr>\n",
       "    <tr>\n",
       "      <th>10</th>\n",
       "      <td>Nye Borgerlige</td>\n",
       "      <td>27.520448</td>\n",
       "    </tr>\n",
       "  </tbody>\n",
       "</table>\n",
       "<p>15 rows × 2 columns</p>\n",
       "</div>"
      ],
      "text/plain": [
       "                                          parti  deviation_sum\n",
       "8                                     Løsgænger      71.061293\n",
       "6                           Kristendemokraterne      50.492682\n",
       "0                                  Alternativet      44.572776\n",
       "9                                   Moderaterne      43.646967\n",
       "2                              Dansk Folkeparti      43.512455\n",
       "..                                          ...            ...\n",
       "4                                  Enhedslisten      33.267532\n",
       "5   Frie Grønne, Danmarks Nye Venstrefløjsparti      32.696590\n",
       "13                      Socialistisk Folkeparti      32.500525\n",
       "1                          Danmarksdemokraterne      29.835597\n",
       "10                               Nye Borgerlige      27.520448\n",
       "\n",
       "[15 rows x 2 columns]"
      ]
     },
     "execution_count": 238,
     "metadata": {},
     "output_type": "execute_result"
    }
   ],
   "source": [
    "df = pd.read_excel(\"alldata.xlsx\")\n",
    "df = df.drop(columns=['storkreds', 'alder', 'navn']).groupby('parti').std() \\\n",
    "    .reset_index().rename(columns={'index': 'parti'})\n",
    "\n",
    "columns = df.drop(columns=['parti']).columns.to_list()\n",
    "\n",
    "df['deviation_sum'] = df[columns].sum(axis=1)\n",
    "df[['parti', 'deviation_sum']].sort_values(by='deviation_sum', ascending=False)"
   ]
  },
  {
   "cell_type": "markdown",
   "id": "7b9ed323",
   "metadata": {},
   "source": [
    "## Plot of opinions"
   ]
  },
  {
   "cell_type": "code",
   "execution_count": 181,
   "id": "5d94aeb9",
   "metadata": {},
   "outputs": [],
   "source": [
    "df = pd.read_excel(\"alldata.xlsx\")\n",
    "df = df[['555', '556', 'parti']].groupby('parti').mean()"
   ]
  },
  {
   "cell_type": "code",
   "execution_count": 187,
   "id": "ea368d0c",
   "metadata": {},
   "outputs": [
    {
     "data": {
      "image/png": "[encoded data removed]",
      "text/plain": [
       "<Figure size 640x480 with 1 Axes>"
      ]
     },
     "metadata": {},
     "output_type": "display_data"
    }
   ],
   "source": [
    "\n",
    "# As mentioned earlier, these 2 questions prove to have most distributed answers\n",
    "ax = sns.scatterplot(data=df, x=\"555\", y=\"556\", hue=\"parti\", legend=True)\n",
    "sns.move_legend(ax, \"upper left\", bbox_to_anchor=(1, 1))"
   ]
  }
 ],
 "metadata": {
  "kernelspec": {
   "display_name": "Python 3 (ipykernel)",
   "language": "python",
   "name": "python3"
  },
  "language_info": {
   "codemirror_mode": {
    "name": "ipython",
    "version": 3
   },
   "file_extension": ".py",
   "mimetype": "text/x-python",
   "name": "python",
   "nbconvert_exporter": "python",
   "pygments_lexer": "ipython3",
   "version": "3.11.4"
  }
 },
 "nbformat": 4,
 "nbformat_minor": 5
}
